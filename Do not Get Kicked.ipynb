{
 "cells": [
  {
   "cell_type": "code",
   "execution_count": null,
   "metadata": {},
   "outputs": [],
   "source": [
    "!pip install graphviz"
   ]
  },
  {
   "cell_type": "markdown",
   "metadata": {},
   "source": [
    "# Importing Libraries"
   ]
  },
  {
   "cell_type": "code",
   "execution_count": 93,
   "metadata": {},
   "outputs": [],
   "source": [
    "import pandas as pd\n",
    "import numpy as np\n",
    "import random as rn\n",
    "\n",
    "import matplotlib.pyplot as plt\n",
    "import seaborn as sns\n",
    "import graphviz \n",
    "import IPython\n",
    "from IPython.display import display\n",
    "\n",
    "import re,copy,itertools\n",
    "\n",
    "from sklearn.metrics import accuracy_score,confusion_matrix,f1_score\n",
    "from sklearn.model_selection import train_test_split\n",
    "from sklearn.preprocessing import LabelEncoder\n",
    "from sklearn.ensemble import RandomForestClassifier\n",
    "from sklearn.tree import export_graphviz"
   ]
  },
  {
   "cell_type": "code",
   "execution_count": 2,
   "metadata": {},
   "outputs": [],
   "source": [
    "import sys,types,pip\n",
    "\n",
    "from botocore.client import Config\n",
    "import ibm_boto3"
   ]
  },
  {
   "cell_type": "markdown",
   "metadata": {},
   "source": [
    "# Helping functions"
   ]
  },
  {
   "cell_type": "code",
   "execution_count": 3,
   "metadata": {},
   "outputs": [],
   "source": [
    "def plot_fi(fi,figsize=(12,7)): return fi.plot('cols', 'imp', 'barh', figsize=figsize, legend=False)"
   ]
  },
  {
   "cell_type": "code",
   "execution_count": 4,
   "metadata": {},
   "outputs": [],
   "source": [
    "def rf_feat_importance(m, df):\n",
    "    return pd.DataFrame({'cols':df.columns, 'imp':m.feature_importances_}\n",
    "                       ).sort_values('imp', ascending=False)"
   ]
  },
  {
   "cell_type": "code",
   "execution_count": 75,
   "metadata": {},
   "outputs": [],
   "source": [
    "def split_balanced(data,target,val_size,shuffle=False):\n",
    "    \"This function split the dataset preserving the val_size ration for each class.\"\n",
    "    idx_tr = []\n",
    "    idx_val = []\n",
    "    data.reset_index(inplace=True,drop=True)\n",
    "    \n",
    "    labels = data[target].unique().tolist()\n",
    "    \n",
    "    for i in labels: \n",
    "        X_class = data[data[target] == i].index.tolist()\n",
    "\n",
    "        if shuffle: rn.shuffle(X_class)\n",
    "\n",
    "        length = len(X_class)\n",
    "\n",
    "        split = int(val_size * length)\n",
    "\n",
    "        idx_val += X_class[-split:]\n",
    "        idx_tr += X_class[:-split]\n",
    "    \n",
    "    return data.iloc[idx_tr,:],data.iloc[idx_val,:]"
   ]
  },
  {
   "cell_type": "code",
   "execution_count": 91,
   "metadata": {},
   "outputs": [],
   "source": [
    "def plot_confusion_matrix(cm, classes,\n",
    "                          normalize=False,\n",
    "                          title='Confusion matrix',\n",
    "                          cmap=plt.cm.Blues):\n",
    "    \"\"\"\n",
    "    This function prints and plots the confusion matrix.\n",
    "    Normalization can be applied by setting `normalize=True`.\n",
    "    \"\"\"\n",
    "    plt.imshow(cm, interpolation='nearest', cmap=cmap)\n",
    "    plt.title(title)\n",
    "    plt.colorbar()\n",
    "    tick_marks = np.arange(len(classes))\n",
    "    plt.xticks(tick_marks, classes, rotation=0)\n",
    "    plt.yticks(tick_marks, classes)\n",
    "\n",
    "    if normalize:\n",
    "        cm = cm.astype('float') / cm.sum(axis=1)[:, np.newaxis]\n",
    "        #print(\"Normalized confusion matrix\")\n",
    "    else:\n",
    "        1#print('Confusion matrix, without normalization')\n",
    "\n",
    "    #print(cm)\n",
    "\n",
    "    thresh = cm.max() / 2.\n",
    "    for i, j in itertools.product(range(cm.shape[0]), range(cm.shape[1])):\n",
    "        plt.text(j, i, cm[i, j],\n",
    "                 horizontalalignment=\"center\",\n",
    "                 color=\"white\" if cm[i, j] > thresh else \"black\")\n",
    "\n",
    "    plt.tight_layout()\n",
    "    plt.ylabel('True label')\n",
    "    plt.xlabel('Predicted label')"
   ]
  },
  {
   "cell_type": "code",
   "execution_count": 5,
   "metadata": {},
   "outputs": [],
   "source": [
    "def under_samp(data,target):\n",
    "    \"\"\"This function does an undersampling on the class with marjority number of samples [label = 0]\n",
    "\n",
    "    returns: undesample dataframe\n",
    "    \"\"\"\n",
    "    data.reset_index(drop=True,inplace=True)\n",
    "    \n",
    "    # Number of data points in the minority class\n",
    "    number_records_fraud = len(data[data[target] == 1])\n",
    "    fraud_indices = np.array(data[data[target] == 1].index)\n",
    "\n",
    "    # Picking the indices of the normal classes\n",
    "    normal_indices = data[data[target] == 0].index\n",
    "\n",
    "    # Out of the indices we picked, randomly select \"x\" number (number_records_fraud)\n",
    "    random_normal_indices = np.random.choice(normal_indices, number_records_fraud, replace = False)\n",
    "    random_normal_indices = np.array(random_normal_indices)\n",
    "\n",
    "    # Appending the 2 indices\n",
    "    under_sample_indices = np.concatenate([fraud_indices,random_normal_indices])\n",
    "\n",
    "    # Under sample dataset\n",
    "    undersamp = data.iloc[under_sample_indices,:].copy()\n",
    "\n",
    "    return undersamp"
   ]
  },
  {
   "cell_type": "code",
   "execution_count": 6,
   "metadata": {},
   "outputs": [],
   "source": [
    "def draw_tree(t, df,cls, size=10, ratio=0.6, precision=0):\n",
    "    \"\"\" Draws a representation of a random forest in IPython.\n",
    "\n",
    "    Parameters:\n",
    "    -----------\n",
    "    t: The tree you wish to draw\n",
    "    df: The data used to train the tree. This is used to get the names of the features.\n",
    "    cls = Class names\n",
    "    \"\"\"\n",
    "    s=export_graphviz(t, out_file=None, feature_names=df.columns, filled=True,class_names=cls,\n",
    "                      special_characters=True, rotate=True, precision=precision)\n",
    "    IPython.display.display(graphviz.Source(re.sub(\"Tree {\",\n",
    "      \"Tree { size=\"+ str(size) + \"; ratio=\" + str(ratio), s)))"
   ]
  },
  {
   "cell_type": "code",
   "execution_count": 7,
   "metadata": {},
   "outputs": [],
   "source": [
    "if not('ibm-cos-sdk' in [package.project_name for package in pip.get_installed_distributions()]):\n",
    "    !pip install ibm-cos-sdk==2.0.0 -q\n",
    "\n",
    "def __iter__(self): return 0\n",
    "\n",
    "# @hidden_cell\n",
    "# The following code accesses a file in your IBM Cloud Object Storage. It includes your credentials.\n"
   ]
  },
  {
   "cell_type": "markdown",
   "metadata": {},
   "source": [
    "# Problem description "
   ]
  },
  {
   "cell_type": "markdown",
   "metadata": {},
   "source": [
    "The problem treated on this notebook refers to a Kaggle competition called [Don't Get Kicked!](https://www.kaggle.com/c/DontGetKicked)."
   ]
  },
  {
   "cell_type": "markdown",
   "metadata": {},
   "source": [
    "One of the biggest challenges of an auto dealership purchasing a used car at an auto auction is the risk of that the vehicle might have serious issues that prevent it from being sold to customers. The auto community calls these unfortunate purchases \"kicks\".\n",
    "\n",
    "Kicked cars often result when there are tampered odometers, mechanical issues the dealer is not able to address, issues with getting the vehicle title from the seller, or some other unforeseen problem. Kick cars can be very costly to dealers after transportation cost, throw-away repair work, and market losses in reselling the vehicle."
   ]
  },
  {
   "cell_type": "markdown",
   "metadata": {},
   "source": [
    "# Importing data"
   ]
  },
  {
   "cell_type": "code",
   "execution_count": 8,
   "metadata": {},
   "outputs": [],
   "source": [
    "body = client_eb9f0afa572247dc9a4034e29c2a0bf5.get_object(Bucket='workshoppuc-donotdelete-pr-1779uskw1dylpk',Key='training.csv')['Body']\n",
    "# add missing __iter__ method, so pandas accepts body as file-like object\n",
    "if not hasattr(body, \"__iter__\"): body.__iter__ = types.MethodType( __iter__, body )\n",
    "\n",
    "train = pd.read_csv(body)"
   ]
  },
  {
   "cell_type": "code",
   "execution_count": 9,
   "metadata": {},
   "outputs": [],
   "source": [
    "body = client_eb9f0afa572247dc9a4034e29c2a0bf5.get_object(Bucket='workshoppuc-donotdelete-pr-1779uskw1dylpk',Key='test.csv')['Body']\n",
    "\n",
    "# add missing __iter__ method, so pandas accepts body as file-like object\n",
    "if not hasattr(body, \"__iter__\"): body.__iter__ = types.MethodType( __iter__, body )\n",
    "\n",
    "test = pd.read_csv(body)"
   ]
  },
  {
   "cell_type": "code",
   "execution_count": 10,
   "metadata": {},
   "outputs": [],
   "source": [
    "body = client_eb9f0afa572247dc9a4034e29c2a0bf5.get_object(Bucket='workshoppuc-donotdelete-pr-1779uskw1dylpk',Key='Carvana_Data_Dictionary-1.csv')['Body']\n",
    "# add missing __iter__ method, so pandas accepts body as file-like object\n",
    "if not hasattr(body, \"__iter__\"): body.__iter__ = types.MethodType( __iter__, body )\n",
    "\n",
    "dic = pd.read_csv(body,sep=';')"
   ]
  },
  {
   "cell_type": "code",
   "execution_count": 11,
   "metadata": {},
   "outputs": [
    {
     "data": {
      "text/html": [
       "<div>\n",
       "<style scoped>\n",
       "    .dataframe tbody tr th:only-of-type {\n",
       "        vertical-align: middle;\n",
       "    }\n",
       "\n",
       "    .dataframe tbody tr th {\n",
       "        vertical-align: top;\n",
       "    }\n",
       "\n",
       "    .dataframe thead th {\n",
       "        text-align: right;\n",
       "    }\n",
       "</style>\n",
       "<table border=\"1\" class=\"dataframe\">\n",
       "  <thead>\n",
       "    <tr style=\"text-align: right;\">\n",
       "      <th></th>\n",
       "      <th>RefId</th>\n",
       "      <th>IsBadBuy</th>\n",
       "      <th>PurchDate</th>\n",
       "      <th>Auction</th>\n",
       "      <th>VehYear</th>\n",
       "      <th>VehicleAge</th>\n",
       "      <th>Make</th>\n",
       "      <th>Model</th>\n",
       "      <th>Trim</th>\n",
       "      <th>SubModel</th>\n",
       "      <th>...</th>\n",
       "      <th>MMRCurrentRetailAveragePrice</th>\n",
       "      <th>MMRCurrentRetailCleanPrice</th>\n",
       "      <th>PRIMEUNIT</th>\n",
       "      <th>AUCGUART</th>\n",
       "      <th>BYRNO</th>\n",
       "      <th>VNZIP1</th>\n",
       "      <th>VNST</th>\n",
       "      <th>VehBCost</th>\n",
       "      <th>IsOnlineSale</th>\n",
       "      <th>WarrantyCost</th>\n",
       "    </tr>\n",
       "  </thead>\n",
       "  <tbody>\n",
       "    <tr>\n",
       "      <th>0</th>\n",
       "      <td>1</td>\n",
       "      <td>0</td>\n",
       "      <td>12/7/2009</td>\n",
       "      <td>ADESA</td>\n",
       "      <td>2006</td>\n",
       "      <td>3</td>\n",
       "      <td>MAZDA</td>\n",
       "      <td>MAZDA3</td>\n",
       "      <td>i</td>\n",
       "      <td>4D SEDAN I</td>\n",
       "      <td>...</td>\n",
       "      <td>11597.0</td>\n",
       "      <td>12409.0</td>\n",
       "      <td>NaN</td>\n",
       "      <td>NaN</td>\n",
       "      <td>21973</td>\n",
       "      <td>33619</td>\n",
       "      <td>FL</td>\n",
       "      <td>7100.0</td>\n",
       "      <td>0</td>\n",
       "      <td>1113</td>\n",
       "    </tr>\n",
       "    <tr>\n",
       "      <th>1</th>\n",
       "      <td>2</td>\n",
       "      <td>0</td>\n",
       "      <td>12/7/2009</td>\n",
       "      <td>ADESA</td>\n",
       "      <td>2004</td>\n",
       "      <td>5</td>\n",
       "      <td>DODGE</td>\n",
       "      <td>1500 RAM PICKUP 2WD</td>\n",
       "      <td>ST</td>\n",
       "      <td>QUAD CAB 4.7L SLT</td>\n",
       "      <td>...</td>\n",
       "      <td>11374.0</td>\n",
       "      <td>12791.0</td>\n",
       "      <td>NaN</td>\n",
       "      <td>NaN</td>\n",
       "      <td>19638</td>\n",
       "      <td>33619</td>\n",
       "      <td>FL</td>\n",
       "      <td>7600.0</td>\n",
       "      <td>0</td>\n",
       "      <td>1053</td>\n",
       "    </tr>\n",
       "    <tr>\n",
       "      <th>2</th>\n",
       "      <td>3</td>\n",
       "      <td>0</td>\n",
       "      <td>12/7/2009</td>\n",
       "      <td>ADESA</td>\n",
       "      <td>2005</td>\n",
       "      <td>4</td>\n",
       "      <td>DODGE</td>\n",
       "      <td>STRATUS V6</td>\n",
       "      <td>SXT</td>\n",
       "      <td>4D SEDAN SXT FFV</td>\n",
       "      <td>...</td>\n",
       "      <td>7146.0</td>\n",
       "      <td>8702.0</td>\n",
       "      <td>NaN</td>\n",
       "      <td>NaN</td>\n",
       "      <td>19638</td>\n",
       "      <td>33619</td>\n",
       "      <td>FL</td>\n",
       "      <td>4900.0</td>\n",
       "      <td>0</td>\n",
       "      <td>1389</td>\n",
       "    </tr>\n",
       "    <tr>\n",
       "      <th>3</th>\n",
       "      <td>4</td>\n",
       "      <td>0</td>\n",
       "      <td>12/7/2009</td>\n",
       "      <td>ADESA</td>\n",
       "      <td>2004</td>\n",
       "      <td>5</td>\n",
       "      <td>DODGE</td>\n",
       "      <td>NEON</td>\n",
       "      <td>SXT</td>\n",
       "      <td>4D SEDAN</td>\n",
       "      <td>...</td>\n",
       "      <td>4375.0</td>\n",
       "      <td>5518.0</td>\n",
       "      <td>NaN</td>\n",
       "      <td>NaN</td>\n",
       "      <td>19638</td>\n",
       "      <td>33619</td>\n",
       "      <td>FL</td>\n",
       "      <td>4100.0</td>\n",
       "      <td>0</td>\n",
       "      <td>630</td>\n",
       "    </tr>\n",
       "    <tr>\n",
       "      <th>4</th>\n",
       "      <td>5</td>\n",
       "      <td>0</td>\n",
       "      <td>12/7/2009</td>\n",
       "      <td>ADESA</td>\n",
       "      <td>2005</td>\n",
       "      <td>4</td>\n",
       "      <td>FORD</td>\n",
       "      <td>FOCUS</td>\n",
       "      <td>ZX3</td>\n",
       "      <td>2D COUPE ZX3</td>\n",
       "      <td>...</td>\n",
       "      <td>6739.0</td>\n",
       "      <td>7911.0</td>\n",
       "      <td>NaN</td>\n",
       "      <td>NaN</td>\n",
       "      <td>19638</td>\n",
       "      <td>33619</td>\n",
       "      <td>FL</td>\n",
       "      <td>4000.0</td>\n",
       "      <td>0</td>\n",
       "      <td>1020</td>\n",
       "    </tr>\n",
       "  </tbody>\n",
       "</table>\n",
       "<p>5 rows × 34 columns</p>\n",
       "</div>"
      ],
      "text/plain": [
       "   RefId  IsBadBuy  PurchDate Auction  VehYear  VehicleAge   Make  \\\n",
       "0      1         0  12/7/2009   ADESA     2006           3  MAZDA   \n",
       "1      2         0  12/7/2009   ADESA     2004           5  DODGE   \n",
       "2      3         0  12/7/2009   ADESA     2005           4  DODGE   \n",
       "3      4         0  12/7/2009   ADESA     2004           5  DODGE   \n",
       "4      5         0  12/7/2009   ADESA     2005           4   FORD   \n",
       "\n",
       "                 Model Trim           SubModel      ...       \\\n",
       "0               MAZDA3    i         4D SEDAN I      ...        \n",
       "1  1500 RAM PICKUP 2WD   ST  QUAD CAB 4.7L SLT      ...        \n",
       "2           STRATUS V6  SXT   4D SEDAN SXT FFV      ...        \n",
       "3                 NEON  SXT           4D SEDAN      ...        \n",
       "4                FOCUS  ZX3       2D COUPE ZX3      ...        \n",
       "\n",
       "  MMRCurrentRetailAveragePrice MMRCurrentRetailCleanPrice  PRIMEUNIT AUCGUART  \\\n",
       "0                      11597.0                    12409.0        NaN      NaN   \n",
       "1                      11374.0                    12791.0        NaN      NaN   \n",
       "2                       7146.0                     8702.0        NaN      NaN   \n",
       "3                       4375.0                     5518.0        NaN      NaN   \n",
       "4                       6739.0                     7911.0        NaN      NaN   \n",
       "\n",
       "   BYRNO VNZIP1 VNST VehBCost  IsOnlineSale  WarrantyCost  \n",
       "0  21973  33619   FL   7100.0             0          1113  \n",
       "1  19638  33619   FL   7600.0             0          1053  \n",
       "2  19638  33619   FL   4900.0             0          1389  \n",
       "3  19638  33619   FL   4100.0             0           630  \n",
       "4  19638  33619   FL   4000.0             0          1020  \n",
       "\n",
       "[5 rows x 34 columns]"
      ]
     },
     "execution_count": 11,
     "metadata": {},
     "output_type": "execute_result"
    }
   ],
   "source": [
    "train.head()"
   ]
  },
  {
   "cell_type": "markdown",
   "metadata": {},
   "source": [
    "# Data Preparation"
   ]
  },
  {
   "cell_type": "markdown",
   "metadata": {},
   "source": [
    "## Treating missing values"
   ]
  },
  {
   "cell_type": "code",
   "execution_count": 12,
   "metadata": {},
   "outputs": [
    {
     "name": "stdout",
     "output_type": "stream",
     "text": [
      "<class 'pandas.core.frame.DataFrame'>\n",
      "RangeIndex: 72983 entries, 0 to 72982\n",
      "Data columns (total 34 columns):\n",
      "RefId                                72983 non-null int64\n",
      "IsBadBuy                             72983 non-null int64\n",
      "PurchDate                            72983 non-null object\n",
      "Auction                              72983 non-null object\n",
      "VehYear                              72983 non-null int64\n",
      "VehicleAge                           72983 non-null int64\n",
      "Make                                 72983 non-null object\n",
      "Model                                72983 non-null object\n",
      "Trim                                 70623 non-null object\n",
      "SubModel                             72975 non-null object\n",
      "Color                                72975 non-null object\n",
      "Transmission                         72974 non-null object\n",
      "WheelTypeID                          69814 non-null float64\n",
      "WheelType                            69809 non-null object\n",
      "VehOdo                               72983 non-null int64\n",
      "Nationality                          72978 non-null object\n",
      "Size                                 72978 non-null object\n",
      "TopThreeAmericanName                 72978 non-null object\n",
      "MMRAcquisitionAuctionAveragePrice    72965 non-null float64\n",
      "MMRAcquisitionAuctionCleanPrice      72965 non-null float64\n",
      "MMRAcquisitionRetailAveragePrice     72965 non-null float64\n",
      "MMRAcquisitonRetailCleanPrice        72965 non-null float64\n",
      "MMRCurrentAuctionAveragePrice        72668 non-null float64\n",
      "MMRCurrentAuctionCleanPrice          72668 non-null float64\n",
      "MMRCurrentRetailAveragePrice         72668 non-null float64\n",
      "MMRCurrentRetailCleanPrice           72668 non-null float64\n",
      "PRIMEUNIT                            3419 non-null object\n",
      "AUCGUART                             3419 non-null object\n",
      "BYRNO                                72983 non-null int64\n",
      "VNZIP1                               72983 non-null int64\n",
      "VNST                                 72983 non-null object\n",
      "VehBCost                             72983 non-null float64\n",
      "IsOnlineSale                         72983 non-null int64\n",
      "WarrantyCost                         72983 non-null int64\n",
      "dtypes: float64(10), int64(9), object(15)\n",
      "memory usage: 18.9+ MB\n"
     ]
    }
   ],
   "source": [
    "train.info()"
   ]
  },
  {
   "cell_type": "code",
   "execution_count": 13,
   "metadata": {},
   "outputs": [
    {
     "data": {
      "text/plain": [
       "RefId                                 0.000\n",
       "IsBadBuy                              0.000\n",
       "PurchDate                             0.000\n",
       "Auction                               0.000\n",
       "VehYear                               0.000\n",
       "VehicleAge                            0.000\n",
       "Make                                  0.000\n",
       "Model                                 0.000\n",
       "Trim                                  3.234\n",
       "SubModel                              0.011\n",
       "Color                                 0.011\n",
       "Transmission                          0.012\n",
       "WheelTypeID                           4.342\n",
       "WheelType                             4.349\n",
       "VehOdo                                0.000\n",
       "Nationality                           0.007\n",
       "Size                                  0.007\n",
       "TopThreeAmericanName                  0.007\n",
       "MMRAcquisitionAuctionAveragePrice     0.025\n",
       "MMRAcquisitionAuctionCleanPrice       0.025\n",
       "MMRAcquisitionRetailAveragePrice      0.025\n",
       "MMRAcquisitonRetailCleanPrice         0.025\n",
       "MMRCurrentAuctionAveragePrice         0.432\n",
       "MMRCurrentAuctionCleanPrice           0.432\n",
       "MMRCurrentRetailAveragePrice          0.432\n",
       "MMRCurrentRetailCleanPrice            0.432\n",
       "PRIMEUNIT                            95.315\n",
       "AUCGUART                             95.315\n",
       "BYRNO                                 0.000\n",
       "VNZIP1                                0.000\n",
       "VNST                                  0.000\n",
       "VehBCost                              0.000\n",
       "IsOnlineSale                          0.000\n",
       "WarrantyCost                          0.000\n",
       "dtype: float64"
      ]
     },
     "execution_count": 13,
     "metadata": {},
     "output_type": "execute_result"
    }
   ],
   "source": [
    "round((train.isnull().sum()/train.shape[0])*100,3)"
   ]
  },
  {
   "cell_type": "code",
   "execution_count": 14,
   "metadata": {},
   "outputs": [
    {
     "data": {
      "text/plain": [
       "array([ 'The level aguarntee provided by auction for the vehicle (Green light - Guaranteed/arbitratable, Yellow Light - caution/issue, red light - sold as is)'], dtype=object)"
      ]
     },
     "execution_count": 14,
     "metadata": {},
     "output_type": "execute_result"
    }
   ],
   "source": [
    "dic[dic['Field Name']=='AUCGUART']['Definition'].values"
   ]
  },
  {
   "cell_type": "code",
   "execution_count": 15,
   "metadata": {},
   "outputs": [
    {
     "data": {
      "text/plain": [
       "(72983, 32)"
      ]
     },
     "execution_count": 15,
     "metadata": {},
     "output_type": "execute_result"
    }
   ],
   "source": [
    "train.drop(columns=['PRIMEUNIT','AUCGUART'],inplace=True)\n",
    "train.shape"
   ]
  },
  {
   "cell_type": "markdown",
   "metadata": {},
   "source": [
    "Percentage of rows with no nulls"
   ]
  },
  {
   "cell_type": "code",
   "execution_count": 16,
   "metadata": {},
   "outputs": [
    {
     "data": {
      "text/plain": [
       "92.17214967869229"
      ]
     },
     "execution_count": 16,
     "metadata": {},
     "output_type": "execute_result"
    }
   ],
   "source": [
    "(train.dropna().shape[0]/train.shape[0])*100"
   ]
  },
  {
   "cell_type": "markdown",
   "metadata": {},
   "source": [
    "Common strategies for treating missing values depends on the type of the data. \n",
    "- Categorical: Most frequent;\n",
    "- Numerical: Average, Median, Max."
   ]
  },
  {
   "cell_type": "markdown",
   "metadata": {},
   "source": [
    "**Let's try to fix the TRIM missing values instead of just dropping**"
   ]
  },
  {
   "cell_type": "code",
   "execution_count": 17,
   "metadata": {},
   "outputs": [
    {
     "data": {
      "text/plain": [
       "array(['Vehicle Trim Level'], dtype=object)"
      ]
     },
     "execution_count": 17,
     "metadata": {},
     "output_type": "execute_result"
    }
   ],
   "source": [
    "dic[dic['Field Name']=='Trim']['Definition'].values"
   ]
  },
  {
   "cell_type": "code",
   "execution_count": 18,
   "metadata": {},
   "outputs": [
    {
     "data": {
      "text/plain": [
       "Bas    13950\n",
       "LS     10174\n",
       "SE      9348\n",
       "SXT     3825\n",
       "LT      3540\n",
       "LX      2417\n",
       "Tou     2256\n",
       "EX      2120\n",
       "SEL     1360\n",
       "XLT     1357\n",
       "GLS     1355\n",
       "Spo     1254\n",
       "SLT     1200\n",
       "Lim      965\n",
       "Lar      902\n",
       "ST       841\n",
       "GT       808\n",
       "XLS      772\n",
       "2        765\n",
       "ES       700\n",
       "S        630\n",
       "ZX4      606\n",
       "SES      601\n",
       "LE       572\n",
       "SLE      543\n",
       "i        487\n",
       "Cla      475\n",
       "Nor      448\n",
       "XL       448\n",
       "GL       410\n",
       "       ...  \n",
       "Cin        7\n",
       "ZTW        7\n",
       "GX         7\n",
       "RT         7\n",
       "RS         6\n",
       "Den        6\n",
       "Spe        5\n",
       "Ove        5\n",
       "Ral        4\n",
       "eC         4\n",
       "Ent        4\n",
       "ZR2        4\n",
       "GXP        3\n",
       "250        3\n",
       "Car        3\n",
       "Hyb        3\n",
       "Si         3\n",
       "XS         2\n",
       "T5         2\n",
       "Dur        2\n",
       "L 3        1\n",
       "Ult        1\n",
       "LL         1\n",
       "Xsp        1\n",
       "Z24        1\n",
       "JLX        1\n",
       "Out        1\n",
       "JLS        1\n",
       "Maz        1\n",
       "Har        1\n",
       "Name: Trim, Length: 134, dtype: int64"
      ]
     },
     "execution_count": 18,
     "metadata": {},
     "output_type": "execute_result"
    }
   ],
   "source": [
    "train['Trim'].value_counts()"
   ]
  },
  {
   "cell_type": "markdown",
   "metadata": {},
   "source": [
    "Trim is a submodel of a Car"
   ]
  },
  {
   "cell_type": "code",
   "execution_count": 19,
   "metadata": {},
   "outputs": [
    {
     "data": {
      "text/plain": [
       "SubModel\n",
       "4D SEDAN            [Bas]\n",
       "4D SEDAN LS          [LS]\n",
       "4D SEDAN LT 3.5L     [LT]\n",
       "4D SEDAN LT 3.9L     [LT]\n",
       "4D SEDAN LTZ        [LTZ]\n",
       "4D SEDAN SS          [SS]\n",
       "Name: Trim, dtype: object"
      ]
     },
     "execution_count": 19,
     "metadata": {},
     "output_type": "execute_result"
    }
   ],
   "source": [
    "train[train['Model']=='IMPALA'].groupby(by=['SubModel'])['Trim'].unique()"
   ]
  },
  {
   "cell_type": "markdown",
   "metadata": {},
   "source": [
    "Let's take all indexes of null values on the column `Trim`"
   ]
  },
  {
   "cell_type": "code",
   "execution_count": 20,
   "metadata": {},
   "outputs": [
    {
     "data": {
      "text/plain": [
       "(2360,)"
      ]
     },
     "execution_count": 20,
     "metadata": {},
     "output_type": "execute_result"
    }
   ],
   "source": [
    "idx_n = train[train['Trim'].isnull()].index.values\n",
    "idx_n.shape"
   ]
  },
  {
   "cell_type": "code",
   "execution_count": 21,
   "metadata": {},
   "outputs": [
    {
     "data": {
      "text/plain": [
       "2360"
      ]
     },
     "execution_count": 21,
     "metadata": {},
     "output_type": "execute_result"
    }
   ],
   "source": [
    "train['Trim'].isnull().sum()"
   ]
  },
  {
   "cell_type": "markdown",
   "metadata": {},
   "source": [
    "The next cell go for each idx with null values of Trim and select the model and submodel of that row. With this information, it is made a query on the dataset searching for this model and submodel discarting the null elements of `Trim`. The query returns the most frequent value of `Trim`. \n",
    "\n",
    "This value is then put in place of the Null `Trim` element of the index of the for loop iteration."
   ]
  },
  {
   "cell_type": "code",
   "execution_count": 22,
   "metadata": {},
   "outputs": [],
   "source": [
    "idxs =[]\n",
    "for i in idx_n: \n",
    "    model,s_model = train.loc[i,['Model','SubModel']].values\n",
    "\n",
    "\n",
    "    trim = train[(train['Model']==model)&\n",
    "                 (train['SubModel']==s_model)&\n",
    "                 (train['Trim'].notnull())]['Trim'].mode()\n",
    "    \n",
    "    if trim.shape[0] >=1:\n",
    "        train.at[i,'Trim'] = trim.values[0]\n",
    "    else: \n",
    "        idxs.append(i)"
   ]
  },
  {
   "cell_type": "markdown",
   "metadata": {},
   "source": [
    "We can see that it was possible to save 1482 elements"
   ]
  },
  {
   "cell_type": "code",
   "execution_count": 23,
   "metadata": {},
   "outputs": [
    {
     "data": {
      "text/plain": [
       "1482"
      ]
     },
     "execution_count": 23,
     "metadata": {},
     "output_type": "execute_result"
    }
   ],
   "source": [
    "2360 - len(idxs)"
   ]
  },
  {
   "cell_type": "code",
   "execution_count": 24,
   "metadata": {},
   "outputs": [
    {
     "data": {
      "text/plain": [
       "878"
      ]
     },
     "execution_count": 24,
     "metadata": {},
     "output_type": "execute_result"
    }
   ],
   "source": [
    "train['Trim'].isnull().sum()"
   ]
  },
  {
   "cell_type": "markdown",
   "metadata": {},
   "source": [
    "With this simple strategy we could recover roughly 2% of the data. "
   ]
  },
  {
   "cell_type": "code",
   "execution_count": 25,
   "metadata": {},
   "outputs": [
    {
     "data": {
      "text/plain": [
       "94.08766425057891"
      ]
     },
     "execution_count": 25,
     "metadata": {},
     "output_type": "execute_result"
    }
   ],
   "source": [
    "(train.dropna().shape[0]/train.shape[0])*100"
   ]
  },
  {
   "cell_type": "markdown",
   "metadata": {},
   "source": [
    "Now let's drop the rest of the null values"
   ]
  },
  {
   "cell_type": "code",
   "execution_count": 26,
   "metadata": {},
   "outputs": [],
   "source": [
    "train.dropna(inplace=True)"
   ]
  },
  {
   "cell_type": "code",
   "execution_count": 27,
   "metadata": {},
   "outputs": [
    {
     "data": {
      "text/plain": [
       "(68668, 32)"
      ]
     },
     "execution_count": 27,
     "metadata": {},
     "output_type": "execute_result"
    }
   ],
   "source": [
    "train.shape"
   ]
  },
  {
   "cell_type": "code",
   "execution_count": 28,
   "metadata": {},
   "outputs": [
    {
     "data": {
      "text/plain": [
       "0"
      ]
     },
     "execution_count": 28,
     "metadata": {},
     "output_type": "execute_result"
    }
   ],
   "source": [
    "train.isnull().sum().sum()"
   ]
  },
  {
   "cell_type": "markdown",
   "metadata": {},
   "source": [
    "# Data Exploration"
   ]
  },
  {
   "cell_type": "code",
   "execution_count": 29,
   "metadata": {},
   "outputs": [
    {
     "data": {
      "text/plain": [
       "Index(['RefId', 'IsBadBuy', 'PurchDate', 'Auction', 'VehYear', 'VehicleAge',\n",
       "       'Make', 'Model', 'Trim', 'SubModel', 'Color', 'Transmission',\n",
       "       'WheelTypeID', 'WheelType', 'VehOdo', 'Nationality', 'Size',\n",
       "       'TopThreeAmericanName', 'MMRAcquisitionAuctionAveragePrice',\n",
       "       'MMRAcquisitionAuctionCleanPrice', 'MMRAcquisitionRetailAveragePrice',\n",
       "       'MMRAcquisitonRetailCleanPrice', 'MMRCurrentAuctionAveragePrice',\n",
       "       'MMRCurrentAuctionCleanPrice', 'MMRCurrentRetailAveragePrice',\n",
       "       'MMRCurrentRetailCleanPrice', 'BYRNO', 'VNZIP1', 'VNST', 'VehBCost',\n",
       "       'IsOnlineSale', 'WarrantyCost'],\n",
       "      dtype='object')"
      ]
     },
     "execution_count": 29,
     "metadata": {},
     "output_type": "execute_result"
    }
   ],
   "source": [
    "train.columns"
   ]
  },
  {
   "cell_type": "markdown",
   "metadata": {},
   "source": [
    "## What models were often sold as a BadBuy?"
   ]
  },
  {
   "cell_type": "code",
   "execution_count": 30,
   "metadata": {},
   "outputs": [
    {
     "data": {
      "text/plain": [
       "count                   68668\n",
       "unique                    516\n",
       "top       2010-11-23 00:00:00\n",
       "freq                      362\n",
       "first     2009-01-05 00:00:00\n",
       "last      2010-12-30 00:00:00\n",
       "Name: PurchDate, dtype: object"
      ]
     },
     "execution_count": 30,
     "metadata": {},
     "output_type": "execute_result"
    }
   ],
   "source": [
    "train['PurchDate'] = pd.to_datetime(train['PurchDate'],infer_datetime_format=True)\n",
    "train['PurchDate'].describe()"
   ]
  },
  {
   "cell_type": "code",
   "execution_count": 31,
   "metadata": {},
   "outputs": [
    {
     "data": {
      "text/html": [
       "<div>\n",
       "<style scoped>\n",
       "    .dataframe tbody tr th:only-of-type {\n",
       "        vertical-align: middle;\n",
       "    }\n",
       "\n",
       "    .dataframe tbody tr th {\n",
       "        vertical-align: top;\n",
       "    }\n",
       "\n",
       "    .dataframe thead th {\n",
       "        text-align: right;\n",
       "    }\n",
       "</style>\n",
       "<table border=\"1\" class=\"dataframe\">\n",
       "  <thead>\n",
       "    <tr style=\"text-align: right;\">\n",
       "      <th></th>\n",
       "      <th>Model</th>\n",
       "      <th>PurchDate</th>\n",
       "      <th>IsBadBuy</th>\n",
       "    </tr>\n",
       "  </thead>\n",
       "  <tbody>\n",
       "    <tr>\n",
       "      <th>0</th>\n",
       "      <td>1500 RAM PICKUP 2WD</td>\n",
       "      <td>2009-03-31</td>\n",
       "      <td>14</td>\n",
       "    </tr>\n",
       "    <tr>\n",
       "      <th>1</th>\n",
       "      <td>1500 RAM PICKUP 2WD</td>\n",
       "      <td>2009-06-30</td>\n",
       "      <td>5</td>\n",
       "    </tr>\n",
       "    <tr>\n",
       "      <th>2</th>\n",
       "      <td>1500 RAM PICKUP 2WD</td>\n",
       "      <td>2009-09-30</td>\n",
       "      <td>10</td>\n",
       "    </tr>\n",
       "  </tbody>\n",
       "</table>\n",
       "</div>"
      ],
      "text/plain": [
       "                 Model  PurchDate  IsBadBuy\n",
       "0  1500 RAM PICKUP 2WD 2009-03-31        14\n",
       "1  1500 RAM PICKUP 2WD 2009-06-30         5\n",
       "2  1500 RAM PICKUP 2WD 2009-09-30        10"
      ]
     },
     "execution_count": 31,
     "metadata": {},
     "output_type": "execute_result"
    }
   ],
   "source": [
    "tmp = train.groupby(['Model',pd.Grouper(key='PurchDate',freq='Q')])['IsBadBuy'].sum().reset_index()\n",
    "tmp.head(3)"
   ]
  },
  {
   "cell_type": "code",
   "execution_count": 32,
   "metadata": {},
   "outputs": [],
   "source": [
    "Qs = pd.to_datetime(tmp['PurchDate'].unique())"
   ]
  },
  {
   "cell_type": "code",
   "execution_count": 33,
   "metadata": {},
   "outputs": [],
   "source": [
    "models = []\n",
    "for q in Qs: \n",
    "    idx = tmp[tmp['PurchDate']==q]['IsBadBuy'].idxmax()\n",
    "    models.append(tmp.loc[idx,:].values)"
   ]
  },
  {
   "cell_type": "code",
   "execution_count": 34,
   "metadata": {},
   "outputs": [
    {
     "data": {
      "text/html": [
       "<div>\n",
       "<style scoped>\n",
       "    .dataframe tbody tr th:only-of-type {\n",
       "        vertical-align: middle;\n",
       "    }\n",
       "\n",
       "    .dataframe tbody tr th {\n",
       "        vertical-align: top;\n",
       "    }\n",
       "\n",
       "    .dataframe thead th {\n",
       "        text-align: right;\n",
       "    }\n",
       "</style>\n",
       "<table border=\"1\" class=\"dataframe\">\n",
       "  <thead>\n",
       "    <tr style=\"text-align: right;\">\n",
       "      <th></th>\n",
       "      <th>Model</th>\n",
       "      <th>PurchDate</th>\n",
       "      <th>IsBadBuy</th>\n",
       "    </tr>\n",
       "  </thead>\n",
       "  <tbody>\n",
       "    <tr>\n",
       "      <th>0</th>\n",
       "      <td>TAURUS 3.0L V6 EFI</td>\n",
       "      <td>2009-03-31</td>\n",
       "      <td>57</td>\n",
       "    </tr>\n",
       "    <tr>\n",
       "      <th>1</th>\n",
       "      <td>TAURUS 3.0L V6 EFI</td>\n",
       "      <td>2009-06-30</td>\n",
       "      <td>31</td>\n",
       "    </tr>\n",
       "    <tr>\n",
       "      <th>2</th>\n",
       "      <td>TAURUS 3.0L V6 EFI</td>\n",
       "      <td>2009-09-30</td>\n",
       "      <td>34</td>\n",
       "    </tr>\n",
       "    <tr>\n",
       "      <th>3</th>\n",
       "      <td>PT CRUISER</td>\n",
       "      <td>2009-12-31</td>\n",
       "      <td>37</td>\n",
       "    </tr>\n",
       "    <tr>\n",
       "      <th>4</th>\n",
       "      <td>PT CRUISER</td>\n",
       "      <td>2010-03-31</td>\n",
       "      <td>61</td>\n",
       "    </tr>\n",
       "    <tr>\n",
       "      <th>5</th>\n",
       "      <td>PT CRUISER</td>\n",
       "      <td>2010-06-30</td>\n",
       "      <td>66</td>\n",
       "    </tr>\n",
       "    <tr>\n",
       "      <th>6</th>\n",
       "      <td>PT CRUISER</td>\n",
       "      <td>2010-09-30</td>\n",
       "      <td>69</td>\n",
       "    </tr>\n",
       "    <tr>\n",
       "      <th>7</th>\n",
       "      <td>PT CRUISER</td>\n",
       "      <td>2010-12-31</td>\n",
       "      <td>89</td>\n",
       "    </tr>\n",
       "  </tbody>\n",
       "</table>\n",
       "</div>"
      ],
      "text/plain": [
       "                Model  PurchDate  IsBadBuy\n",
       "0  TAURUS 3.0L V6 EFI 2009-03-31        57\n",
       "1  TAURUS 3.0L V6 EFI 2009-06-30        31\n",
       "2  TAURUS 3.0L V6 EFI 2009-09-30        34\n",
       "3          PT CRUISER 2009-12-31        37\n",
       "4          PT CRUISER 2010-03-31        61\n",
       "5          PT CRUISER 2010-06-30        66\n",
       "6          PT CRUISER 2010-09-30        69\n",
       "7          PT CRUISER 2010-12-31        89"
      ]
     },
     "execution_count": 34,
     "metadata": {},
     "output_type": "execute_result"
    }
   ],
   "source": [
    "models = pd.DataFrame(models,columns=tmp.columns.tolist())\n",
    "\n",
    "models"
   ]
  },
  {
   "cell_type": "code",
   "execution_count": 35,
   "metadata": {},
   "outputs": [
    {
     "data": {
      "text/plain": [
       "0    Q1-09\n",
       "1    Q2-09\n",
       "2    Q3-09\n",
       "3    Q4-09\n",
       "4    Q1-10\n",
       "5    Q2-10\n",
       "6    Q3-10\n",
       "7    Q4-10\n",
       "Name: Q-Y, dtype: object"
      ]
     },
     "execution_count": 35,
     "metadata": {},
     "output_type": "execute_result"
    }
   ],
   "source": [
    "models['PurchDate'] = pd.to_datetime(models['PurchDate'],infer_datetime_format=True)\n",
    "models['Q-Y'] =  'Q'+models.PurchDate.dt.quarter.astype(str)+ '-' + models.PurchDate.dt.year.apply(lambda x: str(x)[-2:])\n",
    "models['Q-Y']"
   ]
  },
  {
   "cell_type": "code",
   "execution_count": 36,
   "metadata": {},
   "outputs": [
    {
     "name": "stderr",
     "output_type": "stream",
     "text": [
      "/opt/ibm/conda/miniconda3/lib/python3.5/site-packages/seaborn/categorical.py:1508: FutureWarning: remove_na is deprecated and is a private function. Do not use.\n",
      "  stat_data = remove_na(group_data[hue_mask])\n"
     ]
    },
    {
     "data": {
      "image/png": "[encoded data removed]",
      "text/plain": [
       "<matplotlib.figure.Figure at 0x7f4d244cdcc0>"
      ]
     },
     "metadata": {},
     "output_type": "display_data"
    }
   ],
   "source": [
    "plt.figure(figsize=(12,6))\n",
    "sns.barplot(x=models['Q-Y'],y=models['IsBadBuy'],hue=models['Model'])\n",
    "plt.grid()\n",
    "plt.show()"
   ]
  },
  {
   "cell_type": "markdown",
   "metadata": {},
   "source": [
    "## What about the manufacturer? "
   ]
  },
  {
   "cell_type": "code",
   "execution_count": 37,
   "metadata": {},
   "outputs": [
    {
     "data": {
      "text/plain": [
       "CHEVROLET       16529\n",
       "DODGE           12408\n",
       "FORD            10710\n",
       "CHRYSLER         8120\n",
       "PONTIAC          3923\n",
       "KIA              2325\n",
       "NISSAN           1970\n",
       "SATURN           1933\n",
       "HYUNDAI          1710\n",
       "JEEP             1555\n",
       "SUZUKI           1204\n",
       "TOYOTA           1102\n",
       "MITSUBISHI        968\n",
       "MAZDA             887\n",
       "MERCURY           792\n",
       "BUICK             676\n",
       "GMC               623\n",
       "HONDA             469\n",
       "OLDSMOBILE        224\n",
       "ISUZU             130\n",
       "VOLKSWAGEN        119\n",
       "SCION             113\n",
       "VOLVO              37\n",
       "LINCOLN            31\n",
       "SUBARU             25\n",
       "MINI               24\n",
       "ACURA              23\n",
       "CADILLAC           21\n",
       "INFINITI           13\n",
       "PLYMOUTH            2\n",
       "LEXUS               1\n",
       "TOYOTA SCION        1\n",
       "Name: Make, dtype: int64"
      ]
     },
     "execution_count": 37,
     "metadata": {},
     "output_type": "execute_result"
    }
   ],
   "source": [
    "train['Make'].value_counts()"
   ]
  },
  {
   "cell_type": "code",
   "execution_count": 38,
   "metadata": {},
   "outputs": [
    {
     "data": {
      "text/plain": [
       "<matplotlib.axes._subplots.AxesSubplot at 0x7f4d24580b00>"
      ]
     },
     "execution_count": 38,
     "metadata": {},
     "output_type": "execute_result"
    },
    {
     "data": {
      "image/png": "[encoded data removed]",
      "text/plain": [
       "<matplotlib.figure.Figure at 0x7f4d245c19e8>"
      ]
     },
     "metadata": {},
     "output_type": "display_data"
    }
   ],
   "source": [
    "tmp = round((train[train['IsBadBuy']==1]['Make'].value_counts()/train['Make'].value_counts())*100,2)\n",
    "tmp.fillna(0.,inplace=True)\n",
    "tmp.sort_values(ascending=False,inplace=True)\n",
    "tmp.plot(kind='barh',grid=True,figsize=(12,8))"
   ]
  },
  {
   "cell_type": "markdown",
   "metadata": {},
   "source": [
    "## What about the Age of the Vehicles ? "
   ]
  },
  {
   "cell_type": "code",
   "execution_count": 39,
   "metadata": {},
   "outputs": [
    {
     "data": {
      "text/plain": [
       "count    68668.000000\n",
       "mean         4.154453\n",
       "std          1.703108\n",
       "min          0.000000\n",
       "25%          3.000000\n",
       "50%          4.000000\n",
       "75%          5.000000\n",
       "max          9.000000\n",
       "Name: VehicleAge, dtype: float64"
      ]
     },
     "execution_count": 39,
     "metadata": {},
     "output_type": "execute_result"
    }
   ],
   "source": [
    "train['VehicleAge'].describe()"
   ]
  },
  {
   "cell_type": "code",
   "execution_count": 40,
   "metadata": {},
   "outputs": [
    {
     "data": {
      "image/png": "[encoded data removed]",
      "text/plain": [
       "<matplotlib.figure.Figure at 0x7f4d240e8630>"
      ]
     },
     "metadata": {},
     "output_type": "display_data"
    }
   ],
   "source": [
    "plt.figure()\n",
    "sns.distplot(train['VehicleAge'])\n",
    "plt.grid()\n",
    "plt.show()"
   ]
  },
  {
   "cell_type": "code",
   "execution_count": 41,
   "metadata": {},
   "outputs": [],
   "source": [
    "train['IsOld'] = np.zeros((train.shape[0],))\n",
    "\n",
    "train.loc[train['VehicleAge']>5,'IsOld'] =1"
   ]
  },
  {
   "cell_type": "code",
   "execution_count": 42,
   "metadata": {},
   "outputs": [
    {
     "name": "stderr",
     "output_type": "stream",
     "text": [
      "/opt/ibm/conda/miniconda3/lib/python3.5/site-packages/seaborn/categorical.py:1460: FutureWarning: remove_na is deprecated and is a private function. Do not use.\n",
      "  stat_data = remove_na(group_data)\n"
     ]
    },
    {
     "data": {
      "image/png": "[encoded data removed]",
      "text/plain": [
       "<matplotlib.figure.Figure at 0x7f4d24580320>"
      ]
     },
     "metadata": {},
     "output_type": "display_data"
    }
   ],
   "source": [
    "plt.figure()\n",
    "sns.barplot(x=train['IsOld'],y=train['IsBadBuy'],estimator=np.mean)\n",
    "plt.grid()\n",
    "plt.show()"
   ]
  },
  {
   "cell_type": "code",
   "execution_count": 43,
   "metadata": {},
   "outputs": [
    {
     "data": {
      "text/plain": [
       "Index(['RefId', 'IsBadBuy', 'PurchDate', 'Auction', 'VehYear', 'VehicleAge',\n",
       "       'Make', 'Model', 'Trim', 'SubModel', 'Color', 'Transmission',\n",
       "       'WheelTypeID', 'WheelType', 'VehOdo', 'Nationality', 'Size',\n",
       "       'TopThreeAmericanName', 'MMRAcquisitionAuctionAveragePrice',\n",
       "       'MMRAcquisitionAuctionCleanPrice', 'MMRAcquisitionRetailAveragePrice',\n",
       "       'MMRAcquisitonRetailCleanPrice', 'MMRCurrentAuctionAveragePrice',\n",
       "       'MMRCurrentAuctionCleanPrice', 'MMRCurrentRetailAveragePrice',\n",
       "       'MMRCurrentRetailCleanPrice', 'BYRNO', 'VNZIP1', 'VNST', 'VehBCost',\n",
       "       'IsOnlineSale', 'WarrantyCost', 'IsOld'],\n",
       "      dtype='object')"
      ]
     },
     "execution_count": 43,
     "metadata": {},
     "output_type": "execute_result"
    }
   ],
   "source": [
    "train.columns"
   ]
  },
  {
   "cell_type": "markdown",
   "metadata": {},
   "source": [
    "# Model Development"
   ]
  },
  {
   "cell_type": "code",
   "execution_count": 44,
   "metadata": {},
   "outputs": [],
   "source": [
    "target = 'IsBadBuy'\n",
    "\n",
    "predictors = [x for x in train.columns if x not in [target,'RefId','PurchDate']]"
   ]
  },
  {
   "cell_type": "code",
   "execution_count": 45,
   "metadata": {},
   "outputs": [
    {
     "data": {
      "text/plain": [
       "['Auction',\n",
       " 'VehYear',\n",
       " 'VehicleAge',\n",
       " 'Make',\n",
       " 'Model',\n",
       " 'Trim',\n",
       " 'SubModel',\n",
       " 'Color',\n",
       " 'Transmission',\n",
       " 'WheelTypeID',\n",
       " 'WheelType',\n",
       " 'VehOdo',\n",
       " 'Nationality',\n",
       " 'Size',\n",
       " 'TopThreeAmericanName',\n",
       " 'MMRAcquisitionAuctionAveragePrice',\n",
       " 'MMRAcquisitionAuctionCleanPrice',\n",
       " 'MMRAcquisitionRetailAveragePrice',\n",
       " 'MMRAcquisitonRetailCleanPrice',\n",
       " 'MMRCurrentAuctionAveragePrice',\n",
       " 'MMRCurrentAuctionCleanPrice',\n",
       " 'MMRCurrentRetailAveragePrice',\n",
       " 'MMRCurrentRetailCleanPrice',\n",
       " 'BYRNO',\n",
       " 'VNZIP1',\n",
       " 'VNST',\n",
       " 'VehBCost',\n",
       " 'IsOnlineSale',\n",
       " 'WarrantyCost',\n",
       " 'IsOld']"
      ]
     },
     "execution_count": 45,
     "metadata": {},
     "output_type": "execute_result"
    }
   ],
   "source": [
    "predictors"
   ]
  },
  {
   "cell_type": "markdown",
   "metadata": {},
   "source": [
    "## Undersampling target"
   ]
  },
  {
   "cell_type": "code",
   "execution_count": 46,
   "metadata": {},
   "outputs": [
    {
     "data": {
      "text/plain": [
       "0    62102\n",
       "1     6566\n",
       "Name: IsBadBuy, dtype: int64"
      ]
     },
     "execution_count": 46,
     "metadata": {},
     "output_type": "execute_result"
    }
   ],
   "source": [
    "train[target].value_counts()"
   ]
  },
  {
   "cell_type": "code",
   "execution_count": 47,
   "metadata": {},
   "outputs": [
    {
     "data": {
      "text/plain": [
       "1    6566\n",
       "0    6566\n",
       "Name: IsBadBuy, dtype: int64"
      ]
     },
     "execution_count": 47,
     "metadata": {},
     "output_type": "execute_result"
    }
   ],
   "source": [
    "train_eq = under_samp(train,target)\n",
    "train_eq[target].value_counts()"
   ]
  },
  {
   "cell_type": "markdown",
   "metadata": {},
   "source": [
    "## Treating Categorical features"
   ]
  },
  {
   "cell_type": "code",
   "execution_count": 76,
   "metadata": {},
   "outputs": [],
   "source": [
    "Xtrain= train_eq[predictors+[target]].copy()\n",
    "Xtrain[target]= Xtrain[target].astype(int)"
   ]
  },
  {
   "cell_type": "code",
   "execution_count": 77,
   "metadata": {},
   "outputs": [
    {
     "data": {
      "text/plain": [
       "True"
      ]
     },
     "execution_count": 77,
     "metadata": {},
     "output_type": "execute_result"
    }
   ],
   "source": [
    "Xtrain[predictors[0]].dtype == 'O' "
   ]
  },
  {
   "cell_type": "code",
   "execution_count": 78,
   "metadata": {},
   "outputs": [],
   "source": [
    "mapper = {}\n",
    "for col in predictors:\n",
    "    \n",
    "    if Xtrain[col].dtype == 'O' :\n",
    "\n",
    "        le = LabelEncoder()\n",
    "        Xtrain[col] = Xtrain[col].astype(str)\n",
    "        Xtrain[col] = le.fit_transform(Xtrain[col])\n",
    "        mapper[col] = copy.copy(le)\n",
    "        \n",
    "    else: \n",
    "        \n",
    "        Xtrain[col] = Xtrain[col].astype(float)"
   ]
  },
  {
   "cell_type": "code",
   "execution_count": 79,
   "metadata": {},
   "outputs": [
    {
     "data": {
      "text/plain": [
       "array(['BEIGE', 'BLACK', 'BLUE', 'BROWN', 'GOLD', 'GREEN', 'GREY',\n",
       "       'MAROON', 'NOT AVAIL', 'ORANGE', 'OTHER', 'PURPLE', 'RED', 'SILVER',\n",
       "       'WHITE', 'YELLOW'], dtype=object)"
      ]
     },
     "execution_count": 79,
     "metadata": {},
     "output_type": "execute_result"
    }
   ],
   "source": [
    "mapper['Color'].classes_"
   ]
  },
  {
   "cell_type": "code",
   "execution_count": 80,
   "metadata": {},
   "outputs": [
    {
     "data": {
      "text/plain": [
       "(13132, 31)"
      ]
     },
     "execution_count": 80,
     "metadata": {},
     "output_type": "execute_result"
    }
   ],
   "source": [
    "Xtrain.shape"
   ]
  },
  {
   "cell_type": "code",
   "execution_count": 81,
   "metadata": {},
   "outputs": [
    {
     "data": {
      "text/plain": [
       "1    5253\n",
       "0    5253\n",
       "Name: IsBadBuy, dtype: int64"
      ]
     },
     "execution_count": 81,
     "metadata": {},
     "output_type": "execute_result"
    }
   ],
   "source": [
    "Xtrain,Xtest = split_balanced(Xtrain,target,0.2)\n",
    "Xtrain[target].value_counts()"
   ]
  },
  {
   "cell_type": "code",
   "execution_count": 82,
   "metadata": {},
   "outputs": [
    {
     "data": {
      "text/plain": [
       "1    1313\n",
       "0    1313\n",
       "Name: IsBadBuy, dtype: int64"
      ]
     },
     "execution_count": 82,
     "metadata": {},
     "output_type": "execute_result"
    }
   ],
   "source": [
    "Xtest[target].value_counts()"
   ]
  },
  {
   "cell_type": "markdown",
   "metadata": {},
   "source": [
    "## First Model"
   ]
  },
  {
   "cell_type": "code",
   "execution_count": 105,
   "metadata": {},
   "outputs": [
    {
     "data": {
      "text/plain": [
       "RandomForestClassifier(bootstrap=False, class_weight=None, criterion='gini',\n",
       "            max_depth=4, max_features='auto', max_leaf_nodes=None,\n",
       "            min_impurity_decrease=0.0, min_impurity_split=None,\n",
       "            min_samples_leaf=1, min_samples_split=2,\n",
       "            min_weight_fraction_leaf=0.0, n_estimators=100, n_jobs=-1,\n",
       "            oob_score=False, random_state=0, verbose=0, warm_start=False)"
      ]
     },
     "execution_count": 105,
     "metadata": {},
     "output_type": "execute_result"
    }
   ],
   "source": [
    "clf = RandomForestClassifier(n_estimators=100,max_depth=4,bootstrap=False,\n",
    "                             n_jobs=-1,random_state=0)\n",
    "clf.fit(Xtrain[predictors],Xtrain[target])"
   ]
  },
  {
   "cell_type": "code",
   "execution_count": 106,
   "metadata": {},
   "outputs": [
    {
     "data": {
      "image/png": "[encoded data removed]",
      "text/plain": [
       "<matplotlib.figure.Figure at 0x7f4d120fc358>"
      ]
     },
     "metadata": {},
     "output_type": "display_data"
    }
   ],
   "source": [
    "fi = rf_feat_importance(clf, Xtrain[predictors])\n",
    "plot_fi(fi[:10],figsize=(12,8));"
   ]
  },
  {
   "cell_type": "code",
   "execution_count": 107,
   "metadata": {},
   "outputs": [
    {
     "data": {
      "text/plain": [
       "array(['The vehicles odometer reading'], dtype=object)"
      ]
     },
     "execution_count": 107,
     "metadata": {},
     "output_type": "execute_result"
    }
   ],
   "source": [
    "dic[dic['Field Name']=='VehOdo']['Definition'].values"
   ]
  },
  {
   "cell_type": "code",
   "execution_count": 87,
   "metadata": {},
   "outputs": [
    {
     "data": {
      "image/svg+xml": [
       "<?xml version=\"1.0\" encoding=\"UTF-8\" standalone=\"no\"?>\n",
       "<!DOCTYPE svg PUBLIC \"-//W3C//DTD SVG 1.1//EN\"\n",
       " \"http://www.w3.org/Graphics/SVG/1.1/DTD/svg11.dtd\">\n",
       "<!-- Generated by graphviz version 2.40.1 (20161225.0304)\n",
       " -->\n",
       "<!-- Title: Tree Pages: 1 -->\n",
       "<svg width=\"1080pt\" height=\"973pt\"\n",
       " viewBox=\"0.00 0.00 1080.00 972.57\" xmlns=\"http://www.w3.org/2000/svg\" xmlns:xlink=\"http://www.w3.org/1999/xlink\">\n",
       "<g id=\"graph0\" class=\"graph\" transform=\"scale(.712 .712) rotate(0) translate(4 1362)\">\n",
       "<title>Tree</title>\n",
       "<polygon fill=\"#ffffff\" stroke=\"transparent\" points=\"-4,4 -4,-1362 1512.8889,-1362 1512.8889,4 -4,4\"/>\n",
       "<!-- 0 -->\n",
       "<g id=\"node1\" class=\"node\">\n",
       "<title>0</title>\n",
       "<polygon fill=\"transparent\" stroke=\"#000000\" points=\"346.3889,-770.5 5.3889,-770.5 5.3889,-687.5 346.3889,-687.5 346.3889,-770.5\"/>\n",
       "<text text-anchor=\"start\" x=\"13.3889\" y=\"-755.3\" font-family=\"Times,serif\" font-size=\"14.00\" fill=\"#000000\">MMRAcquisitionAuctionCleanPrice ≤ 5792.5</text>\n",
       "<text text-anchor=\"start\" x=\"140.3889\" y=\"-740.3\" font-family=\"Times,serif\" font-size=\"14.00\" fill=\"#000000\">gini = 0.5</text>\n",
       "<text text-anchor=\"start\" x=\"113.3889\" y=\"-725.3\" font-family=\"Times,serif\" font-size=\"14.00\" fill=\"#000000\">samples = 10506</text>\n",
       "<text text-anchor=\"start\" x=\"100.3889\" y=\"-710.3\" font-family=\"Times,serif\" font-size=\"14.00\" fill=\"#000000\">value = [5253, 5253]</text>\n",
       "<text text-anchor=\"start\" x=\"114.8889\" y=\"-695.3\" font-family=\"Times,serif\" font-size=\"14.00\" fill=\"#000000\">class = GoodBuy</text>\n",
       "</g>\n",
       "<!-- 1 -->\n",
       "<g id=\"node2\" class=\"node\">\n",
       "<title>1</title>\n",
       "<polygon fill=\"#399de5\" fill-opacity=\"0.384314\" stroke=\"#000000\" points=\"559.3889,-893.5 392.3889,-893.5 392.3889,-810.5 559.3889,-810.5 559.3889,-893.5\"/>\n",
       "<text text-anchor=\"start\" x=\"405.3889\" y=\"-878.3\" font-family=\"Times,serif\" font-size=\"14.00\" fill=\"#000000\">VehBCost ≤ 4987.5</text>\n",
       "<text text-anchor=\"start\" x=\"435.8889\" y=\"-863.3\" font-family=\"Times,serif\" font-size=\"14.00\" fill=\"#000000\">gini = 0.47</text>\n",
       "<text text-anchor=\"start\" x=\"417.8889\" y=\"-848.3\" font-family=\"Times,serif\" font-size=\"14.00\" fill=\"#000000\">samples = 3816</text>\n",
       "<text text-anchor=\"start\" x=\"400.3889\" y=\"-833.3\" font-family=\"Times,serif\" font-size=\"14.00\" fill=\"#000000\">value = [1452, 2364]</text>\n",
       "<text text-anchor=\"start\" x=\"419.3889\" y=\"-818.3\" font-family=\"Times,serif\" font-size=\"14.00\" fill=\"#000000\">class = BadBuy</text>\n",
       "</g>\n",
       "<!-- 0&#45;&gt;1 -->\n",
       "<g id=\"edge1\" class=\"edge\">\n",
       "<title>0&#45;&gt;1</title>\n",
       "<path fill=\"none\" stroke=\"#000000\" d=\"M277.4552,-770.6422C311.6381,-784.6572 349.5802,-800.2135 383.0555,-813.9383\"/>\n",
       "<polygon fill=\"#000000\" stroke=\"#000000\" points=\"381.7917,-817.2029 392.372,-817.7581 384.4472,-810.7261 381.7917,-817.2029\"/>\n",
       "<text text-anchor=\"middle\" x=\"369.3096\" y=\"-823.7083\" font-family=\"Times,serif\" font-size=\"14.00\" fill=\"#000000\">True</text>\n",
       "</g>\n",
       "<!-- 16 -->\n",
       "<g id=\"node17\" class=\"node\">\n",
       "<title>16</title>\n",
       "<polygon fill=\"#e58139\" fill-opacity=\"0.239216\" stroke=\"#000000\" points=\"559.3889,-548.5 392.3889,-548.5 392.3889,-465.5 559.3889,-465.5 559.3889,-548.5\"/>\n",
       "<text text-anchor=\"start\" x=\"413.8889\" y=\"-533.3\" font-family=\"Times,serif\" font-size=\"14.00\" fill=\"#000000\">WheelType ≤ 0.5</text>\n",
       "<text text-anchor=\"start\" x=\"435.8889\" y=\"-518.3\" font-family=\"Times,serif\" font-size=\"14.00\" fill=\"#000000\">gini = 0.49</text>\n",
       "<text text-anchor=\"start\" x=\"417.8889\" y=\"-503.3\" font-family=\"Times,serif\" font-size=\"14.00\" fill=\"#000000\">samples = 6690</text>\n",
       "<text text-anchor=\"start\" x=\"400.3889\" y=\"-488.3\" font-family=\"Times,serif\" font-size=\"14.00\" fill=\"#000000\">value = [3801, 2889]</text>\n",
       "<text text-anchor=\"start\" x=\"414.8889\" y=\"-473.3\" font-family=\"Times,serif\" font-size=\"14.00\" fill=\"#000000\">class = GoodBuy</text>\n",
       "</g>\n",
       "<!-- 0&#45;&gt;16 -->\n",
       "<g id=\"edge16\" class=\"edge\">\n",
       "<title>0&#45;&gt;16</title>\n",
       "<path fill=\"none\" stroke=\"#000000\" d=\"M232.3166,-687.2435C283.2282,-649.5689 358.0849,-594.175 411.3567,-554.7538\"/>\n",
       "<polygon fill=\"#000000\" stroke=\"#000000\" points=\"413.7577,-557.3312 419.7142,-548.5693 409.5938,-551.7043 413.7577,-557.3312\"/>\n",
       "<text text-anchor=\"middle\" x=\"394.9887\" y=\"-541.1747\" font-family=\"Times,serif\" font-size=\"14.00\" fill=\"#000000\">False</text>\n",
       "</g>\n",
       "<!-- 2 -->\n",
       "<g id=\"node3\" class=\"node\">\n",
       "<title>2</title>\n",
       "<polygon fill=\"#399de5\" fill-opacity=\"0.533333\" stroke=\"#000000\" points=\"851.8889,-1143.5 693.8889,-1143.5 693.8889,-1060.5 851.8889,-1060.5 851.8889,-1143.5\"/>\n",
       "<text text-anchor=\"start\" x=\"722.8889\" y=\"-1128.3\" font-family=\"Times,serif\" font-size=\"14.00\" fill=\"#000000\">Auction ≤ 0.5</text>\n",
       "<text text-anchor=\"start\" x=\"732.8889\" y=\"-1113.3\" font-family=\"Times,serif\" font-size=\"14.00\" fill=\"#000000\">gini = 0.43</text>\n",
       "<text text-anchor=\"start\" x=\"714.8889\" y=\"-1098.3\" font-family=\"Times,serif\" font-size=\"14.00\" fill=\"#000000\">samples = 2082</text>\n",
       "<text text-anchor=\"start\" x=\"701.8889\" y=\"-1083.3\" font-family=\"Times,serif\" font-size=\"14.00\" fill=\"#000000\">value = [663, 1419]</text>\n",
       "<text text-anchor=\"start\" x=\"716.3889\" y=\"-1068.3\" font-family=\"Times,serif\" font-size=\"14.00\" fill=\"#000000\">class = BadBuy</text>\n",
       "</g>\n",
       "<!-- 1&#45;&gt;2 -->\n",
       "<g id=\"edge2\" class=\"edge\">\n",
       "<title>1&#45;&gt;2</title>\n",
       "<path fill=\"none\" stroke=\"#000000\" d=\"M525.2658,-893.5631C577.6186,-937.6311 660.2207,-1007.1615 715.4507,-1053.6514\"/>\n",
       "<polygon fill=\"#000000\" stroke=\"#000000\" points=\"713.4895,-1056.5754 723.3939,-1060.3376 717.9974,-1051.2201 713.4895,-1056.5754\"/>\n",
       "</g>\n",
       "<!-- 9 -->\n",
       "<g id=\"node10\" class=\"node\">\n",
       "<title>9</title>\n",
       "<polygon fill=\"#399de5\" fill-opacity=\"0.164706\" stroke=\"#000000\" points=\"940.3889,-893.5 605.3889,-893.5 605.3889,-810.5 940.3889,-810.5 940.3889,-893.5\"/>\n",
       "<text text-anchor=\"start\" x=\"613.3889\" y=\"-878.3\" font-family=\"Times,serif\" font-size=\"14.00\" fill=\"#000000\">MMRCurrentAuctionAveragePrice ≤ 5012.5</text>\n",
       "<text text-anchor=\"start\" x=\"737.3889\" y=\"-863.3\" font-family=\"Times,serif\" font-size=\"14.00\" fill=\"#000000\">gini = 0.5</text>\n",
       "<text text-anchor=\"start\" x=\"714.8889\" y=\"-848.3\" font-family=\"Times,serif\" font-size=\"14.00\" fill=\"#000000\">samples = 1734</text>\n",
       "<text text-anchor=\"start\" x=\"706.3889\" y=\"-833.3\" font-family=\"Times,serif\" font-size=\"14.00\" fill=\"#000000\">value = [789, 945]</text>\n",
       "<text text-anchor=\"start\" x=\"716.3889\" y=\"-818.3\" font-family=\"Times,serif\" font-size=\"14.00\" fill=\"#000000\">class = BadBuy</text>\n",
       "</g>\n",
       "<!-- 1&#45;&gt;9 -->\n",
       "<g id=\"edge9\" class=\"edge\">\n",
       "<title>1&#45;&gt;9</title>\n",
       "<path fill=\"none\" stroke=\"#000000\" d=\"M559.4103,-852C570.7368,-852 582.6915,-852 594.9241,-852\"/>\n",
       "<polygon fill=\"#000000\" stroke=\"#000000\" points=\"595.2572,-855.5001 605.2572,-852 595.2571,-848.5001 595.2572,-855.5001\"/>\n",
       "</g>\n",
       "<!-- 3 -->\n",
       "<g id=\"node4\" class=\"node\">\n",
       "<title>3</title>\n",
       "<polygon fill=\"#e58139\" fill-opacity=\"0.462745\" stroke=\"#000000\" points=\"1215.8889,-1279.5 1075.8889,-1279.5 1075.8889,-1196.5 1215.8889,-1196.5 1215.8889,-1279.5\"/>\n",
       "<text text-anchor=\"start\" x=\"1097.8889\" y=\"-1264.3\" font-family=\"Times,serif\" font-size=\"14.00\" fill=\"#000000\">VNST ≤ 32.0</text>\n",
       "<text text-anchor=\"start\" x=\"1105.8889\" y=\"-1249.3\" font-family=\"Times,serif\" font-size=\"14.00\" fill=\"#000000\">gini = 0.45</text>\n",
       "<text text-anchor=\"start\" x=\"1092.3889\" y=\"-1234.3\" font-family=\"Times,serif\" font-size=\"14.00\" fill=\"#000000\">samples = 206</text>\n",
       "<text text-anchor=\"start\" x=\"1083.8889\" y=\"-1219.3\" font-family=\"Times,serif\" font-size=\"14.00\" fill=\"#000000\">value = [134, 72]</text>\n",
       "<text text-anchor=\"start\" x=\"1084.8889\" y=\"-1204.3\" font-family=\"Times,serif\" font-size=\"14.00\" fill=\"#000000\">class = GoodBuy</text>\n",
       "</g>\n",
       "<!-- 2&#45;&gt;3 -->\n",
       "<g id=\"edge3\" class=\"edge\">\n",
       "<title>2&#45;&gt;3</title>\n",
       "<path fill=\"none\" stroke=\"#000000\" d=\"M851.9926,-1130.8421C915.0489,-1153.8331 1002.9518,-1185.8835 1066.1692,-1208.9333\"/>\n",
       "<polygon fill=\"#000000\" stroke=\"#000000\" points=\"1065.1091,-1212.2721 1075.7031,-1212.4095 1067.507,-1205.6956 1065.1091,-1212.2721\"/>\n",
       "</g>\n",
       "<!-- 6 -->\n",
       "<g id=\"node7\" class=\"node\">\n",
       "<title>6</title>\n",
       "<polygon fill=\"#399de5\" fill-opacity=\"0.607843\" stroke=\"#000000\" points=\"1224.8889,-1143.5 1066.8889,-1143.5 1066.8889,-1060.5 1224.8889,-1060.5 1224.8889,-1143.5\"/>\n",
       "<text text-anchor=\"start\" x=\"1104.3889\" y=\"-1128.3\" font-family=\"Times,serif\" font-size=\"14.00\" fill=\"#000000\">IsOld ≤ 0.5</text>\n",
       "<text text-anchor=\"start\" x=\"1110.3889\" y=\"-1113.3\" font-family=\"Times,serif\" font-size=\"14.00\" fill=\"#000000\">gini = 0.4</text>\n",
       "<text text-anchor=\"start\" x=\"1087.8889\" y=\"-1098.3\" font-family=\"Times,serif\" font-size=\"14.00\" fill=\"#000000\">samples = 1876</text>\n",
       "<text text-anchor=\"start\" x=\"1074.8889\" y=\"-1083.3\" font-family=\"Times,serif\" font-size=\"14.00\" fill=\"#000000\">value = [529, 1347]</text>\n",
       "<text text-anchor=\"start\" x=\"1089.3889\" y=\"-1068.3\" font-family=\"Times,serif\" font-size=\"14.00\" fill=\"#000000\">class = BadBuy</text>\n",
       "</g>\n",
       "<!-- 2&#45;&gt;6 -->\n",
       "<g id=\"edge6\" class=\"edge\">\n",
       "<title>2&#45;&gt;6</title>\n",
       "<path fill=\"none\" stroke=\"#000000\" d=\"M851.9926,-1102C911.8526,-1102 994.1043,-1102 1056.3721,-1102\"/>\n",
       "<polygon fill=\"#000000\" stroke=\"#000000\" points=\"1056.5784,-1105.5001 1066.5784,-1102 1056.5783,-1098.5001 1056.5784,-1105.5001\"/>\n",
       "</g>\n",
       "<!-- 4 -->\n",
       "<g id=\"node5\" class=\"node\">\n",
       "<title>4</title>\n",
       "<polygon fill=\"#e58139\" fill-opacity=\"0.584314\" stroke=\"#000000\" points=\"1496.8889,-1358 1356.8889,-1358 1356.8889,-1290 1496.8889,-1290 1496.8889,-1358\"/>\n",
       "<text text-anchor=\"start\" x=\"1386.8889\" y=\"-1342.8\" font-family=\"Times,serif\" font-size=\"14.00\" fill=\"#000000\">gini = 0.41</text>\n",
       "<text text-anchor=\"start\" x=\"1373.3889\" y=\"-1327.8\" font-family=\"Times,serif\" font-size=\"14.00\" fill=\"#000000\">samples = 184</text>\n",
       "<text text-anchor=\"start\" x=\"1364.8889\" y=\"-1312.8\" font-family=\"Times,serif\" font-size=\"14.00\" fill=\"#000000\">value = [130, 54]</text>\n",
       "<text text-anchor=\"start\" x=\"1365.8889\" y=\"-1297.8\" font-family=\"Times,serif\" font-size=\"14.00\" fill=\"#000000\">class = GoodBuy</text>\n",
       "</g>\n",
       "<!-- 3&#45;&gt;4 -->\n",
       "<g id=\"edge4\" class=\"edge\">\n",
       "<title>3&#45;&gt;4</title>\n",
       "<path fill=\"none\" stroke=\"#000000\" d=\"M1216.0722,-1259.4796C1255.8026,-1271.6391 1305.6405,-1286.8919 1346.8828,-1299.5141\"/>\n",
       "<polygon fill=\"#000000\" stroke=\"#000000\" points=\"1346.0399,-1302.9164 1356.6264,-1302.4962 1348.0885,-1296.2228 1346.0399,-1302.9164\"/>\n",
       "</g>\n",
       "<!-- 5 -->\n",
       "<g id=\"node6\" class=\"node\">\n",
       "<title>5</title>\n",
       "<polygon fill=\"#399de5\" fill-opacity=\"0.776471\" stroke=\"#000000\" points=\"1491.3889,-1272 1362.3889,-1272 1362.3889,-1204 1491.3889,-1204 1491.3889,-1272\"/>\n",
       "<text text-anchor=\"start\" x=\"1391.3889\" y=\"-1256.8\" font-family=\"Times,serif\" font-size=\"14.00\" fill=\"#000000\">gini = 0.3</text>\n",
       "<text text-anchor=\"start\" x=\"1377.8889\" y=\"-1241.8\" font-family=\"Times,serif\" font-size=\"14.00\" fill=\"#000000\">samples = 22</text>\n",
       "<text text-anchor=\"start\" x=\"1373.8889\" y=\"-1226.8\" font-family=\"Times,serif\" font-size=\"14.00\" fill=\"#000000\">value = [4, 18]</text>\n",
       "<text text-anchor=\"start\" x=\"1370.3889\" y=\"-1211.8\" font-family=\"Times,serif\" font-size=\"14.00\" fill=\"#000000\">class = BadBuy</text>\n",
       "</g>\n",
       "<!-- 3&#45;&gt;5 -->\n",
       "<g id=\"edge5\" class=\"edge\">\n",
       "<title>3&#45;&gt;5</title>\n",
       "<path fill=\"none\" stroke=\"#000000\" d=\"M1216.0722,-1238C1257.3708,-1238 1309.5903,-1238 1351.7248,-1238\"/>\n",
       "<polygon fill=\"#000000\" stroke=\"#000000\" points=\"1351.9296,-1241.5001 1361.9296,-1238 1351.9296,-1234.5001 1351.9296,-1241.5001\"/>\n",
       "</g>\n",
       "<!-- 7 -->\n",
       "<g id=\"node8\" class=\"node\">\n",
       "<title>7</title>\n",
       "<polygon fill=\"#399de5\" fill-opacity=\"0.486275\" stroke=\"#000000\" points=\"1501.3889,-1186 1352.3889,-1186 1352.3889,-1118 1501.3889,-1118 1501.3889,-1186\"/>\n",
       "<text text-anchor=\"start\" x=\"1386.8889\" y=\"-1170.8\" font-family=\"Times,serif\" font-size=\"14.00\" fill=\"#000000\">gini = 0.45</text>\n",
       "<text text-anchor=\"start\" x=\"1373.3889\" y=\"-1155.8\" font-family=\"Times,serif\" font-size=\"14.00\" fill=\"#000000\">samples = 741</text>\n",
       "<text text-anchor=\"start\" x=\"1360.3889\" y=\"-1140.8\" font-family=\"Times,serif\" font-size=\"14.00\" fill=\"#000000\">value = [251, 490]</text>\n",
       "<text text-anchor=\"start\" x=\"1370.3889\" y=\"-1125.8\" font-family=\"Times,serif\" font-size=\"14.00\" fill=\"#000000\">class = BadBuy</text>\n",
       "</g>\n",
       "<!-- 6&#45;&gt;7 -->\n",
       "<g id=\"edge7\" class=\"edge\">\n",
       "<title>6&#45;&gt;7</title>\n",
       "<path fill=\"none\" stroke=\"#000000\" d=\"M1224.9108,-1116.0608C1261.4122,-1122.5557 1304.8094,-1130.2777 1342.0051,-1136.8961\"/>\n",
       "<polygon fill=\"#000000\" stroke=\"#000000\" points=\"1341.8624,-1140.4256 1352.3209,-1138.7317 1343.0887,-1133.5339 1341.8624,-1140.4256\"/>\n",
       "</g>\n",
       "<!-- 8 -->\n",
       "<g id=\"node9\" class=\"node\">\n",
       "<title>8</title>\n",
       "<polygon fill=\"#399de5\" fill-opacity=\"0.674510\" stroke=\"#000000\" points=\"1501.3889,-1100 1352.3889,-1100 1352.3889,-1032 1501.3889,-1032 1501.3889,-1100\"/>\n",
       "<text text-anchor=\"start\" x=\"1386.8889\" y=\"-1084.8\" font-family=\"Times,serif\" font-size=\"14.00\" fill=\"#000000\">gini = 0.37</text>\n",
       "<text text-anchor=\"start\" x=\"1368.8889\" y=\"-1069.8\" font-family=\"Times,serif\" font-size=\"14.00\" fill=\"#000000\">samples = 1135</text>\n",
       "<text text-anchor=\"start\" x=\"1360.3889\" y=\"-1054.8\" font-family=\"Times,serif\" font-size=\"14.00\" fill=\"#000000\">value = [278, 857]</text>\n",
       "<text text-anchor=\"start\" x=\"1370.3889\" y=\"-1039.8\" font-family=\"Times,serif\" font-size=\"14.00\" fill=\"#000000\">class = BadBuy</text>\n",
       "</g>\n",
       "<!-- 6&#45;&gt;8 -->\n",
       "<g id=\"edge8\" class=\"edge\">\n",
       "<title>6&#45;&gt;8</title>\n",
       "<path fill=\"none\" stroke=\"#000000\" d=\"M1224.9108,-1091.8762C1261.4122,-1087.1999 1304.8094,-1081.6401 1342.0051,-1076.8748\"/>\n",
       "<polygon fill=\"#000000\" stroke=\"#000000\" points=\"1342.8468,-1080.2957 1352.3209,-1075.5532 1341.9572,-1073.3524 1342.8468,-1080.2957\"/>\n",
       "</g>\n",
       "<!-- 10 -->\n",
       "<g id=\"node11\" class=\"node\">\n",
       "<title>10</title>\n",
       "<polygon fill=\"#399de5\" fill-opacity=\"0.219608\" stroke=\"#000000\" points=\"1239.3889,-943.5 1052.3889,-943.5 1052.3889,-860.5 1239.3889,-860.5 1239.3889,-943.5\"/>\n",
       "<text text-anchor=\"start\" x=\"1060.3889\" y=\"-928.3\" font-family=\"Times,serif\" font-size=\"14.00\" fill=\"#000000\">WarrantyCost ≤ 1504.5</text>\n",
       "<text text-anchor=\"start\" x=\"1105.8889\" y=\"-913.3\" font-family=\"Times,serif\" font-size=\"14.00\" fill=\"#000000\">gini = 0.49</text>\n",
       "<text text-anchor=\"start\" x=\"1087.8889\" y=\"-898.3\" font-family=\"Times,serif\" font-size=\"14.00\" fill=\"#000000\">samples = 1600</text>\n",
       "<text text-anchor=\"start\" x=\"1079.3889\" y=\"-883.3\" font-family=\"Times,serif\" font-size=\"14.00\" fill=\"#000000\">value = [701, 899]</text>\n",
       "<text text-anchor=\"start\" x=\"1089.3889\" y=\"-868.3\" font-family=\"Times,serif\" font-size=\"14.00\" fill=\"#000000\">class = BadBuy</text>\n",
       "</g>\n",
       "<!-- 9&#45;&gt;10 -->\n",
       "<g id=\"edge10\" class=\"edge\">\n",
       "<title>9&#45;&gt;10</title>\n",
       "<path fill=\"none\" stroke=\"#000000\" d=\"M940.5671,-874.477C975.1419,-879.1117 1010.5884,-883.8632 1042.0882,-888.0857\"/>\n",
       "<polygon fill=\"#000000\" stroke=\"#000000\" points=\"1041.7942,-891.5775 1052.1706,-889.4372 1042.7243,-884.6396 1041.7942,-891.5775\"/>\n",
       "</g>\n",
       "<!-- 13 -->\n",
       "<g id=\"node14\" class=\"node\">\n",
       "<title>13</title>\n",
       "<polygon fill=\"#e58139\" fill-opacity=\"0.478431\" stroke=\"#000000\" points=\"1302.8889,-842.5 988.8889,-842.5 988.8889,-759.5 1302.8889,-759.5 1302.8889,-842.5\"/>\n",
       "<text text-anchor=\"start\" x=\"996.8889\" y=\"-827.3\" font-family=\"Times,serif\" font-size=\"14.00\" fill=\"#000000\">MMRAcquisitionAuctionCleanPrice ≤ 0.5</text>\n",
       "<text text-anchor=\"start\" x=\"1105.8889\" y=\"-812.3\" font-family=\"Times,serif\" font-size=\"14.00\" fill=\"#000000\">gini = 0.45</text>\n",
       "<text text-anchor=\"start\" x=\"1092.3889\" y=\"-797.3\" font-family=\"Times,serif\" font-size=\"14.00\" fill=\"#000000\">samples = 134</text>\n",
       "<text text-anchor=\"start\" x=\"1088.3889\" y=\"-782.3\" font-family=\"Times,serif\" font-size=\"14.00\" fill=\"#000000\">value = [88, 46]</text>\n",
       "<text text-anchor=\"start\" x=\"1084.8889\" y=\"-767.3\" font-family=\"Times,serif\" font-size=\"14.00\" fill=\"#000000\">class = GoodBuy</text>\n",
       "</g>\n",
       "<!-- 9&#45;&gt;13 -->\n",
       "<g id=\"edge13\" class=\"edge\">\n",
       "<title>9&#45;&gt;13</title>\n",
       "<path fill=\"none\" stroke=\"#000000\" d=\"M940.5671,-829.0735C953.241,-827.3406 966.0321,-825.5917 978.703,-823.8592\"/>\n",
       "<polygon fill=\"#000000\" stroke=\"#000000\" points=\"979.4008,-827.2964 988.8345,-822.4739 978.4525,-820.361 979.4008,-827.2964\"/>\n",
       "</g>\n",
       "<!-- 11 -->\n",
       "<g id=\"node12\" class=\"node\">\n",
       "<title>11</title>\n",
       "<polygon fill=\"#399de5\" fill-opacity=\"0.113725\" stroke=\"#000000\" points=\"1501.3889,-1014 1352.3889,-1014 1352.3889,-946 1501.3889,-946 1501.3889,-1014\"/>\n",
       "<text text-anchor=\"start\" x=\"1391.3889\" y=\"-998.8\" font-family=\"Times,serif\" font-size=\"14.00\" fill=\"#000000\">gini = 0.5</text>\n",
       "<text text-anchor=\"start\" x=\"1368.8889\" y=\"-983.8\" font-family=\"Times,serif\" font-size=\"14.00\" fill=\"#000000\">samples = 1109</text>\n",
       "<text text-anchor=\"start\" x=\"1360.3889\" y=\"-968.8\" font-family=\"Times,serif\" font-size=\"14.00\" fill=\"#000000\">value = [521, 588]</text>\n",
       "<text text-anchor=\"start\" x=\"1370.3889\" y=\"-953.8\" font-family=\"Times,serif\" font-size=\"14.00\" fill=\"#000000\">class = BadBuy</text>\n",
       "</g>\n",
       "<!-- 10&#45;&gt;11 -->\n",
       "<g id=\"edge11\" class=\"edge\">\n",
       "<title>10&#45;&gt;11</title>\n",
       "<path fill=\"none\" stroke=\"#000000\" d=\"M1239.4578,-927.9729C1272.7358,-937.2102 1309.9823,-947.549 1342.4507,-956.5616\"/>\n",
       "<polygon fill=\"#000000\" stroke=\"#000000\" points=\"1341.7922,-960.0111 1352.3641,-959.3134 1343.6646,-953.2662 1341.7922,-960.0111\"/>\n",
       "</g>\n",
       "<!-- 12 -->\n",
       "<g id=\"node13\" class=\"node\">\n",
       "<title>12</title>\n",
       "<polygon fill=\"#399de5\" fill-opacity=\"0.419608\" stroke=\"#000000\" points=\"1501.3889,-928 1352.3889,-928 1352.3889,-860 1501.3889,-860 1501.3889,-928\"/>\n",
       "<text text-anchor=\"start\" x=\"1386.8889\" y=\"-912.8\" font-family=\"Times,serif\" font-size=\"14.00\" fill=\"#000000\">gini = 0.46</text>\n",
       "<text text-anchor=\"start\" x=\"1373.3889\" y=\"-897.8\" font-family=\"Times,serif\" font-size=\"14.00\" fill=\"#000000\">samples = 491</text>\n",
       "<text text-anchor=\"start\" x=\"1360.3889\" y=\"-882.8\" font-family=\"Times,serif\" font-size=\"14.00\" fill=\"#000000\">value = [180, 311]</text>\n",
       "<text text-anchor=\"start\" x=\"1370.3889\" y=\"-867.8\" font-family=\"Times,serif\" font-size=\"14.00\" fill=\"#000000\">class = BadBuy</text>\n",
       "</g>\n",
       "<!-- 10&#45;&gt;12 -->\n",
       "<g id=\"edge12\" class=\"edge\">\n",
       "<title>10&#45;&gt;12</title>\n",
       "<path fill=\"none\" stroke=\"#000000\" d=\"M1239.4578,-899.3361C1272.5923,-898.3928 1309.6612,-897.3374 1342.0306,-896.4159\"/>\n",
       "<polygon fill=\"#000000\" stroke=\"#000000\" points=\"1342.4678,-899.905 1352.3641,-896.1217 1342.2685,-892.9078 1342.4678,-899.905\"/>\n",
       "</g>\n",
       "<!-- 14 -->\n",
       "<g id=\"node15\" class=\"node\">\n",
       "<title>14</title>\n",
       "<polygon fill=\"#399de5\" fill-opacity=\"0.450980\" stroke=\"#000000\" points=\"1492.3889,-842 1361.3889,-842 1361.3889,-774 1492.3889,-774 1492.3889,-842\"/>\n",
       "<text text-anchor=\"start\" x=\"1386.8889\" y=\"-826.8\" font-family=\"Times,serif\" font-size=\"14.00\" fill=\"#000000\">gini = 0.46</text>\n",
       "<text text-anchor=\"start\" x=\"1377.8889\" y=\"-811.8\" font-family=\"Times,serif\" font-size=\"14.00\" fill=\"#000000\">samples = 31</text>\n",
       "<text text-anchor=\"start\" x=\"1369.3889\" y=\"-796.8\" font-family=\"Times,serif\" font-size=\"14.00\" fill=\"#000000\">value = [11, 20]</text>\n",
       "<text text-anchor=\"start\" x=\"1370.3889\" y=\"-781.8\" font-family=\"Times,serif\" font-size=\"14.00\" fill=\"#000000\">class = BadBuy</text>\n",
       "</g>\n",
       "<!-- 13&#45;&gt;14 -->\n",
       "<g id=\"edge14\" class=\"edge\">\n",
       "<title>13&#45;&gt;14</title>\n",
       "<path fill=\"none\" stroke=\"#000000\" d=\"M1303.2293,-804.9195C1319.8383,-805.3333 1336.1288,-805.7391 1351.1543,-806.1134\"/>\n",
       "<polygon fill=\"#000000\" stroke=\"#000000\" points=\"1351.2587,-809.617 1361.3428,-806.3672 1351.4331,-802.6191 1351.2587,-809.617\"/>\n",
       "</g>\n",
       "<!-- 15 -->\n",
       "<g id=\"node16\" class=\"node\">\n",
       "<title>15</title>\n",
       "<polygon fill=\"#e58139\" fill-opacity=\"0.662745\" stroke=\"#000000\" points=\"1495.8889,-756 1357.8889,-756 1357.8889,-688 1495.8889,-688 1495.8889,-756\"/>\n",
       "<text text-anchor=\"start\" x=\"1386.8889\" y=\"-740.8\" font-family=\"Times,serif\" font-size=\"14.00\" fill=\"#000000\">gini = 0.38</text>\n",
       "<text text-anchor=\"start\" x=\"1373.3889\" y=\"-725.8\" font-family=\"Times,serif\" font-size=\"14.00\" fill=\"#000000\">samples = 103</text>\n",
       "<text text-anchor=\"start\" x=\"1369.3889\" y=\"-710.8\" font-family=\"Times,serif\" font-size=\"14.00\" fill=\"#000000\">value = [77, 26]</text>\n",
       "<text text-anchor=\"start\" x=\"1365.8889\" y=\"-695.8\" font-family=\"Times,serif\" font-size=\"14.00\" fill=\"#000000\">class = GoodBuy</text>\n",
       "</g>\n",
       "<!-- 13&#45;&gt;15 -->\n",
       "<g id=\"edge15\" class=\"edge\">\n",
       "<title>13&#45;&gt;15</title>\n",
       "<path fill=\"none\" stroke=\"#000000\" d=\"M1293.795,-759.4179C1312.4742,-754.1664 1330.9782,-748.9642 1347.9818,-744.1839\"/>\n",
       "<polygon fill=\"#000000\" stroke=\"#000000\" points=\"1349.1303,-747.4967 1357.8098,-741.4208 1347.2357,-740.758 1349.1303,-747.4967\"/>\n",
       "</g>\n",
       "<!-- 17 -->\n",
       "<g id=\"node18\" class=\"node\">\n",
       "<title>17</title>\n",
       "<polygon fill=\"#e58139\" fill-opacity=\"0.070588\" stroke=\"#000000\" points=\"856.3889,-548.5 689.3889,-548.5 689.3889,-465.5 856.3889,-465.5 856.3889,-548.5\"/>\n",
       "<text text-anchor=\"start\" x=\"724.8889\" y=\"-533.3\" font-family=\"Times,serif\" font-size=\"14.00\" fill=\"#000000\">VNST ≤ 23.5</text>\n",
       "<text text-anchor=\"start\" x=\"737.3889\" y=\"-518.3\" font-family=\"Times,serif\" font-size=\"14.00\" fill=\"#000000\">gini = 0.5</text>\n",
       "<text text-anchor=\"start\" x=\"714.8889\" y=\"-503.3\" font-family=\"Times,serif\" font-size=\"14.00\" fill=\"#000000\">samples = 3792</text>\n",
       "<text text-anchor=\"start\" x=\"697.3889\" y=\"-488.3\" font-family=\"Times,serif\" font-size=\"14.00\" fill=\"#000000\">value = [1966, 1826]</text>\n",
       "<text text-anchor=\"start\" x=\"711.8889\" y=\"-473.3\" font-family=\"Times,serif\" font-size=\"14.00\" fill=\"#000000\">class = GoodBuy</text>\n",
       "</g>\n",
       "<!-- 16&#45;&gt;17 -->\n",
       "<g id=\"edge17\" class=\"edge\">\n",
       "<title>16&#45;&gt;17</title>\n",
       "<path fill=\"none\" stroke=\"#000000\" d=\"M559.4103,-507C596.6587,-507 640.7012,-507 679.079,-507\"/>\n",
       "<polygon fill=\"#000000\" stroke=\"#000000\" points=\"679.2229,-510.5001 689.2229,-507 679.2229,-503.5001 679.2229,-510.5001\"/>\n",
       "</g>\n",
       "<!-- 24 -->\n",
       "<g id=\"node25\" class=\"node\">\n",
       "<title>24</title>\n",
       "<polygon fill=\"#e58139\" fill-opacity=\"0.419608\" stroke=\"#000000\" points=\"856.3889,-298.5 689.3889,-298.5 689.3889,-215.5 856.3889,-215.5 856.3889,-298.5\"/>\n",
       "<text text-anchor=\"start\" x=\"704.8889\" y=\"-283.3\" font-family=\"Times,serif\" font-size=\"14.00\" fill=\"#000000\">BYRNO ≤ 52304.5</text>\n",
       "<text text-anchor=\"start\" x=\"732.8889\" y=\"-268.3\" font-family=\"Times,serif\" font-size=\"14.00\" fill=\"#000000\">gini = 0.46</text>\n",
       "<text text-anchor=\"start\" x=\"714.8889\" y=\"-253.3\" font-family=\"Times,serif\" font-size=\"14.00\" fill=\"#000000\">samples = 2898</text>\n",
       "<text text-anchor=\"start\" x=\"697.3889\" y=\"-238.3\" font-family=\"Times,serif\" font-size=\"14.00\" fill=\"#000000\">value = [1835, 1063]</text>\n",
       "<text text-anchor=\"start\" x=\"711.8889\" y=\"-223.3\" font-family=\"Times,serif\" font-size=\"14.00\" fill=\"#000000\">class = GoodBuy</text>\n",
       "</g>\n",
       "<!-- 16&#45;&gt;24 -->\n",
       "<g id=\"edge24\" class=\"edge\">\n",
       "<title>16&#45;&gt;24</title>\n",
       "<path fill=\"none\" stroke=\"#000000\" d=\"M525.2658,-465.4369C577.6186,-421.3689 660.2207,-351.8385 715.4507,-305.3486\"/>\n",
       "<polygon fill=\"#000000\" stroke=\"#000000\" points=\"717.9974,-307.7799 723.3939,-298.6624 713.4895,-302.4246 717.9974,-307.7799\"/>\n",
       "</g>\n",
       "<!-- 18 -->\n",
       "<g id=\"node19\" class=\"node\">\n",
       "<title>18</title>\n",
       "<polygon fill=\"#e58139\" fill-opacity=\"0.184314\" stroke=\"#000000\" points=\"1224.8889,-599.5 1066.8889,-599.5 1066.8889,-516.5 1224.8889,-516.5 1224.8889,-599.5\"/>\n",
       "<text text-anchor=\"start\" x=\"1081.3889\" y=\"-584.3\" font-family=\"Times,serif\" font-size=\"14.00\" fill=\"#000000\">VehYear ≤ 2005.5</text>\n",
       "<text text-anchor=\"start\" x=\"1105.8889\" y=\"-569.3\" font-family=\"Times,serif\" font-size=\"14.00\" fill=\"#000000\">gini = 0.49</text>\n",
       "<text text-anchor=\"start\" x=\"1087.8889\" y=\"-554.3\" font-family=\"Times,serif\" font-size=\"14.00\" fill=\"#000000\">samples = 2204</text>\n",
       "<text text-anchor=\"start\" x=\"1074.8889\" y=\"-539.3\" font-family=\"Times,serif\" font-size=\"14.00\" fill=\"#000000\">value = [1213, 991]</text>\n",
       "<text text-anchor=\"start\" x=\"1084.8889\" y=\"-524.3\" font-family=\"Times,serif\" font-size=\"14.00\" fill=\"#000000\">class = GoodBuy</text>\n",
       "</g>\n",
       "<!-- 17&#45;&gt;18 -->\n",
       "<g id=\"edge18\" class=\"edge\">\n",
       "<title>17&#45;&gt;18</title>\n",
       "<path fill=\"none\" stroke=\"#000000\" d=\"M856.5974,-518.4454C916.1105,-526.5826 995.9321,-537.4965 1056.653,-545.7988\"/>\n",
       "<polygon fill=\"#000000\" stroke=\"#000000\" points=\"1056.2276,-549.2732 1066.6096,-547.1602 1057.1759,-542.3377 1056.2276,-549.2732\"/>\n",
       "</g>\n",
       "<!-- 21 -->\n",
       "<g id=\"node22\" class=\"node\">\n",
       "<title>21</title>\n",
       "<polygon fill=\"#399de5\" fill-opacity=\"0.098039\" stroke=\"#000000\" points=\"1220.3889,-498.5 1071.3889,-498.5 1071.3889,-415.5 1220.3889,-415.5 1220.3889,-498.5\"/>\n",
       "<text text-anchor=\"start\" x=\"1099.3889\" y=\"-483.3\" font-family=\"Times,serif\" font-size=\"14.00\" fill=\"#000000\">Make ≤ 20.5</text>\n",
       "<text text-anchor=\"start\" x=\"1110.3889\" y=\"-468.3\" font-family=\"Times,serif\" font-size=\"14.00\" fill=\"#000000\">gini = 0.5</text>\n",
       "<text text-anchor=\"start\" x=\"1087.8889\" y=\"-453.3\" font-family=\"Times,serif\" font-size=\"14.00\" fill=\"#000000\">samples = 1588</text>\n",
       "<text text-anchor=\"start\" x=\"1079.3889\" y=\"-438.3\" font-family=\"Times,serif\" font-size=\"14.00\" fill=\"#000000\">value = [753, 835]</text>\n",
       "<text text-anchor=\"start\" x=\"1089.3889\" y=\"-423.3\" font-family=\"Times,serif\" font-size=\"14.00\" fill=\"#000000\">class = BadBuy</text>\n",
       "</g>\n",
       "<!-- 17&#45;&gt;21 -->\n",
       "<g id=\"edge21\" class=\"edge\">\n",
       "<title>17&#45;&gt;21</title>\n",
       "<path fill=\"none\" stroke=\"#000000\" d=\"M856.5974,-495.779C917.6365,-487.5968 1000.0389,-476.5509 1061.2855,-468.3409\"/>\n",
       "<polygon fill=\"#000000\" stroke=\"#000000\" points=\"1061.8639,-471.7948 1071.3102,-466.9971 1060.9339,-464.8569 1061.8639,-471.7948\"/>\n",
       "</g>\n",
       "<!-- 19 -->\n",
       "<g id=\"node20\" class=\"node\">\n",
       "<title>19</title>\n",
       "<polygon fill=\"transparent\" stroke=\"#000000\" points=\"1501.3889,-670 1352.3889,-670 1352.3889,-602 1501.3889,-602 1501.3889,-670\"/>\n",
       "<text text-anchor=\"start\" x=\"1391.3889\" y=\"-654.8\" font-family=\"Times,serif\" font-size=\"14.00\" fill=\"#000000\">gini = 0.5</text>\n",
       "<text text-anchor=\"start\" x=\"1368.8889\" y=\"-639.8\" font-family=\"Times,serif\" font-size=\"14.00\" fill=\"#000000\">samples = 1261</text>\n",
       "<text text-anchor=\"start\" x=\"1360.3889\" y=\"-624.8\" font-family=\"Times,serif\" font-size=\"14.00\" fill=\"#000000\">value = [630, 631]</text>\n",
       "<text text-anchor=\"start\" x=\"1370.3889\" y=\"-609.8\" font-family=\"Times,serif\" font-size=\"14.00\" fill=\"#000000\">class = BadBuy</text>\n",
       "</g>\n",
       "<!-- 18&#45;&gt;19 -->\n",
       "<g id=\"edge19\" class=\"edge\">\n",
       "<title>18&#45;&gt;19</title>\n",
       "<path fill=\"none\" stroke=\"#000000\" d=\"M1224.9108,-579.9349C1261.5682,-590.1103 1305.1804,-602.2162 1342.4817,-612.5702\"/>\n",
       "<polygon fill=\"#000000\" stroke=\"#000000\" points=\"1341.7491,-615.9992 1352.3209,-615.3014 1343.6214,-609.2542 1341.7491,-615.9992\"/>\n",
       "</g>\n",
       "<!-- 20 -->\n",
       "<g id=\"node21\" class=\"node\">\n",
       "<title>20</title>\n",
       "<polygon fill=\"#e58139\" fill-opacity=\"0.384314\" stroke=\"#000000\" points=\"1501.3889,-584 1352.3889,-584 1352.3889,-516 1501.3889,-516 1501.3889,-584\"/>\n",
       "<text text-anchor=\"start\" x=\"1386.8889\" y=\"-568.8\" font-family=\"Times,serif\" font-size=\"14.00\" fill=\"#000000\">gini = 0.47</text>\n",
       "<text text-anchor=\"start\" x=\"1373.3889\" y=\"-553.8\" font-family=\"Times,serif\" font-size=\"14.00\" fill=\"#000000\">samples = 943</text>\n",
       "<text text-anchor=\"start\" x=\"1360.3889\" y=\"-538.8\" font-family=\"Times,serif\" font-size=\"14.00\" fill=\"#000000\">value = [583, 360]</text>\n",
       "<text text-anchor=\"start\" x=\"1365.8889\" y=\"-523.8\" font-family=\"Times,serif\" font-size=\"14.00\" fill=\"#000000\">class = GoodBuy</text>\n",
       "</g>\n",
       "<!-- 18&#45;&gt;20 -->\n",
       "<g id=\"edge20\" class=\"edge\">\n",
       "<title>18&#45;&gt;20</title>\n",
       "<path fill=\"none\" stroke=\"#000000\" d=\"M1224.9108,-555.7503C1261.4122,-554.7111 1304.8094,-553.4756 1342.0051,-552.4166\"/>\n",
       "<polygon fill=\"#000000\" stroke=\"#000000\" points=\"1342.4246,-555.9062 1352.3209,-552.1229 1342.2253,-548.909 1342.4246,-555.9062\"/>\n",
       "</g>\n",
       "<!-- 22 -->\n",
       "<g id=\"node23\" class=\"node\">\n",
       "<title>22</title>\n",
       "<polygon fill=\"#399de5\" fill-opacity=\"0.168627\" stroke=\"#000000\" points=\"1501.3889,-498 1352.3889,-498 1352.3889,-430 1501.3889,-430 1501.3889,-498\"/>\n",
       "<text text-anchor=\"start\" x=\"1391.3889\" y=\"-482.8\" font-family=\"Times,serif\" font-size=\"14.00\" fill=\"#000000\">gini = 0.5</text>\n",
       "<text text-anchor=\"start\" x=\"1368.8889\" y=\"-467.8\" font-family=\"Times,serif\" font-size=\"14.00\" fill=\"#000000\">samples = 1424</text>\n",
       "<text text-anchor=\"start\" x=\"1360.3889\" y=\"-452.8\" font-family=\"Times,serif\" font-size=\"14.00\" fill=\"#000000\">value = [646, 778]</text>\n",
       "<text text-anchor=\"start\" x=\"1370.3889\" y=\"-437.8\" font-family=\"Times,serif\" font-size=\"14.00\" fill=\"#000000\">class = BadBuy</text>\n",
       "</g>\n",
       "<!-- 21&#45;&gt;22 -->\n",
       "<g id=\"edge22\" class=\"edge\">\n",
       "<title>21&#45;&gt;22</title>\n",
       "<path fill=\"none\" stroke=\"#000000\" d=\"M1220.454,-458.8575C1257.7678,-459.787 1303.1058,-460.9164 1341.7781,-461.8798\"/>\n",
       "<polygon fill=\"#000000\" stroke=\"#000000\" points=\"1341.8913,-465.3836 1351.9753,-462.1338 1342.0656,-458.3858 1341.8913,-465.3836\"/>\n",
       "</g>\n",
       "<!-- 23 -->\n",
       "<g id=\"node24\" class=\"node\">\n",
       "<title>23</title>\n",
       "<polygon fill=\"#e58139\" fill-opacity=\"0.466667\" stroke=\"#000000\" points=\"1496.8889,-412 1356.8889,-412 1356.8889,-344 1496.8889,-344 1496.8889,-412\"/>\n",
       "<text text-anchor=\"start\" x=\"1386.8889\" y=\"-396.8\" font-family=\"Times,serif\" font-size=\"14.00\" fill=\"#000000\">gini = 0.45</text>\n",
       "<text text-anchor=\"start\" x=\"1373.3889\" y=\"-381.8\" font-family=\"Times,serif\" font-size=\"14.00\" fill=\"#000000\">samples = 164</text>\n",
       "<text text-anchor=\"start\" x=\"1364.8889\" y=\"-366.8\" font-family=\"Times,serif\" font-size=\"14.00\" fill=\"#000000\">value = [107, 57]</text>\n",
       "<text text-anchor=\"start\" x=\"1365.8889\" y=\"-351.8\" font-family=\"Times,serif\" font-size=\"14.00\" fill=\"#000000\">class = GoodBuy</text>\n",
       "</g>\n",
       "<!-- 21&#45;&gt;23 -->\n",
       "<g id=\"edge23\" class=\"edge\">\n",
       "<title>21&#45;&gt;23</title>\n",
       "<path fill=\"none\" stroke=\"#000000\" d=\"M1220.454,-436.0369C1259.5081,-425.0572 1307.3522,-411.6064 1347.1439,-400.4194\"/>\n",
       "<polygon fill=\"#000000\" stroke=\"#000000\" points=\"1348.1335,-403.777 1356.813,-397.7011 1346.2389,-397.0382 1348.1335,-403.777\"/>\n",
       "</g>\n",
       "<!-- 25 -->\n",
       "<g id=\"node26\" class=\"node\">\n",
       "<title>25</title>\n",
       "<polygon fill=\"#e58139\" fill-opacity=\"0.329412\" stroke=\"#000000\" points=\"1224.8889,-298.5 1066.8889,-298.5 1066.8889,-215.5 1224.8889,-215.5 1224.8889,-298.5\"/>\n",
       "<text text-anchor=\"start\" x=\"1083.8889\" y=\"-283.3\" font-family=\"Times,serif\" font-size=\"14.00\" fill=\"#000000\">VehicleAge ≤ 2.5</text>\n",
       "<text text-anchor=\"start\" x=\"1105.8889\" y=\"-268.3\" font-family=\"Times,serif\" font-size=\"14.00\" fill=\"#000000\">gini = 0.48</text>\n",
       "<text text-anchor=\"start\" x=\"1087.8889\" y=\"-253.3\" font-family=\"Times,serif\" font-size=\"14.00\" fill=\"#000000\">samples = 2293</text>\n",
       "<text text-anchor=\"start\" x=\"1074.8889\" y=\"-238.3\" font-family=\"Times,serif\" font-size=\"14.00\" fill=\"#000000\">value = [1371, 922]</text>\n",
       "<text text-anchor=\"start\" x=\"1084.8889\" y=\"-223.3\" font-family=\"Times,serif\" font-size=\"14.00\" fill=\"#000000\">class = GoodBuy</text>\n",
       "</g>\n",
       "<!-- 24&#45;&gt;25 -->\n",
       "<g id=\"edge25\" class=\"edge\">\n",
       "<title>24&#45;&gt;25</title>\n",
       "<path fill=\"none\" stroke=\"#000000\" d=\"M856.5974,-257C915.9878,-257 995.603,-257 1056.2771,-257\"/>\n",
       "<polygon fill=\"#000000\" stroke=\"#000000\" points=\"1056.6096,-260.5001 1066.6096,-257 1056.6095,-253.5001 1056.6096,-260.5001\"/>\n",
       "</g>\n",
       "<!-- 28 -->\n",
       "<g id=\"node29\" class=\"node\">\n",
       "<title>28</title>\n",
       "<polygon fill=\"#e58139\" fill-opacity=\"0.698039\" stroke=\"#000000\" points=\"1224.3889,-161.5 1067.3889,-161.5 1067.3889,-78.5 1224.3889,-78.5 1224.3889,-161.5\"/>\n",
       "<text text-anchor=\"start\" x=\"1075.3889\" y=\"-146.3\" font-family=\"Times,serif\" font-size=\"14.00\" fill=\"#000000\">VehBCost ≤ 4150.0</text>\n",
       "<text text-anchor=\"start\" x=\"1105.8889\" y=\"-131.3\" font-family=\"Times,serif\" font-size=\"14.00\" fill=\"#000000\">gini = 0.36</text>\n",
       "<text text-anchor=\"start\" x=\"1092.3889\" y=\"-116.3\" font-family=\"Times,serif\" font-size=\"14.00\" fill=\"#000000\">samples = 605</text>\n",
       "<text text-anchor=\"start\" x=\"1079.3889\" y=\"-101.3\" font-family=\"Times,serif\" font-size=\"14.00\" fill=\"#000000\">value = [464, 141]</text>\n",
       "<text text-anchor=\"start\" x=\"1084.8889\" y=\"-86.3\" font-family=\"Times,serif\" font-size=\"14.00\" fill=\"#000000\">class = GoodBuy</text>\n",
       "</g>\n",
       "<!-- 24&#45;&gt;28 -->\n",
       "<g id=\"edge28\" class=\"edge\">\n",
       "<title>24&#45;&gt;28</title>\n",
       "<path fill=\"none\" stroke=\"#000000\" d=\"M856.5974,-226.2545C916.4371,-204.2759 996.8088,-174.756 1057.6509,-152.4091\"/>\n",
       "<polygon fill=\"#000000\" stroke=\"#000000\" points=\"1059.0617,-155.6196 1067.2418,-148.8864 1056.6483,-149.0488 1059.0617,-155.6196\"/>\n",
       "</g>\n",
       "<!-- 26 -->\n",
       "<g id=\"node27\" class=\"node\">\n",
       "<title>26</title>\n",
       "<polygon fill=\"#e58139\" fill-opacity=\"0.560784\" stroke=\"#000000\" points=\"1501.3889,-326 1352.3889,-326 1352.3889,-258 1501.3889,-258 1501.3889,-326\"/>\n",
       "<text text-anchor=\"start\" x=\"1386.8889\" y=\"-310.8\" font-family=\"Times,serif\" font-size=\"14.00\" fill=\"#000000\">gini = 0.42</text>\n",
       "<text text-anchor=\"start\" x=\"1373.3889\" y=\"-295.8\" font-family=\"Times,serif\" font-size=\"14.00\" fill=\"#000000\">samples = 484</text>\n",
       "<text text-anchor=\"start\" x=\"1360.3889\" y=\"-280.8\" font-family=\"Times,serif\" font-size=\"14.00\" fill=\"#000000\">value = [336, 148]</text>\n",
       "<text text-anchor=\"start\" x=\"1365.8889\" y=\"-265.8\" font-family=\"Times,serif\" font-size=\"14.00\" fill=\"#000000\">class = GoodBuy</text>\n",
       "</g>\n",
       "<!-- 25&#45;&gt;26 -->\n",
       "<g id=\"edge26\" class=\"edge\">\n",
       "<title>25&#45;&gt;26</title>\n",
       "<path fill=\"none\" stroke=\"#000000\" d=\"M1224.9108,-266.8426C1261.4122,-271.389 1304.8094,-276.7944 1342.0051,-281.4273\"/>\n",
       "<polygon fill=\"#000000\" stroke=\"#000000\" points=\"1341.965,-284.9493 1352.3209,-282.7122 1342.8302,-278.0029 1341.965,-284.9493\"/>\n",
       "</g>\n",
       "<!-- 27 -->\n",
       "<g id=\"node28\" class=\"node\">\n",
       "<title>27</title>\n",
       "<polygon fill=\"#e58139\" fill-opacity=\"0.250980\" stroke=\"#000000\" points=\"1505.8889,-240 1347.8889,-240 1347.8889,-172 1505.8889,-172 1505.8889,-240\"/>\n",
       "<text text-anchor=\"start\" x=\"1386.8889\" y=\"-224.8\" font-family=\"Times,serif\" font-size=\"14.00\" fill=\"#000000\">gini = 0.49</text>\n",
       "<text text-anchor=\"start\" x=\"1368.8889\" y=\"-209.8\" font-family=\"Times,serif\" font-size=\"14.00\" fill=\"#000000\">samples = 1809</text>\n",
       "<text text-anchor=\"start\" x=\"1355.8889\" y=\"-194.8\" font-family=\"Times,serif\" font-size=\"14.00\" fill=\"#000000\">value = [1035, 774]</text>\n",
       "<text text-anchor=\"start\" x=\"1365.8889\" y=\"-179.8\" font-family=\"Times,serif\" font-size=\"14.00\" fill=\"#000000\">class = GoodBuy</text>\n",
       "</g>\n",
       "<!-- 25&#45;&gt;27 -->\n",
       "<g id=\"edge27\" class=\"edge\">\n",
       "<title>25&#45;&gt;27</title>\n",
       "<path fill=\"none\" stroke=\"#000000\" d=\"M1224.9108,-242.6579C1259.9284,-236.3024 1301.2926,-228.7951 1337.4392,-222.2346\"/>\n",
       "<polygon fill=\"#000000\" stroke=\"#000000\" points=\"1338.2722,-225.6407 1347.4864,-220.4111 1337.0221,-218.7532 1338.2722,-225.6407\"/>\n",
       "</g>\n",
       "<!-- 29 -->\n",
       "<g id=\"node30\" class=\"node\">\n",
       "<title>29</title>\n",
       "<polygon fill=\"#399de5\" stroke=\"#000000\" points=\"1491.3889,-154 1362.3889,-154 1362.3889,-86 1491.3889,-86 1491.3889,-154\"/>\n",
       "<text text-anchor=\"start\" x=\"1391.3889\" y=\"-138.8\" font-family=\"Times,serif\" font-size=\"14.00\" fill=\"#000000\">gini = 0.0</text>\n",
       "<text text-anchor=\"start\" x=\"1382.3889\" y=\"-123.8\" font-family=\"Times,serif\" font-size=\"14.00\" fill=\"#000000\">samples = 3</text>\n",
       "<text text-anchor=\"start\" x=\"1378.3889\" y=\"-108.8\" font-family=\"Times,serif\" font-size=\"14.00\" fill=\"#000000\">value = [0, 3]</text>\n",
       "<text text-anchor=\"start\" x=\"1370.3889\" y=\"-93.8\" font-family=\"Times,serif\" font-size=\"14.00\" fill=\"#000000\">class = BadBuy</text>\n",
       "</g>\n",
       "<!-- 28&#45;&gt;29 -->\n",
       "<g id=\"edge29\" class=\"edge\">\n",
       "<title>28&#45;&gt;29</title>\n",
       "<path fill=\"none\" stroke=\"#000000\" d=\"M1224.5367,-120C1264.4161,-120 1312.6017,-120 1351.9465,-120\"/>\n",
       "<polygon fill=\"#000000\" stroke=\"#000000\" points=\"1352.009,-123.5001 1362.009,-120 1352.0089,-116.5001 1352.009,-123.5001\"/>\n",
       "</g>\n",
       "<!-- 30 -->\n",
       "<g id=\"node31\" class=\"node\">\n",
       "<title>30</title>\n",
       "<polygon fill=\"#e58139\" fill-opacity=\"0.701961\" stroke=\"#000000\" points=\"1501.3889,-68 1352.3889,-68 1352.3889,0 1501.3889,0 1501.3889,-68\"/>\n",
       "<text text-anchor=\"start\" x=\"1386.8889\" y=\"-52.8\" font-family=\"Times,serif\" font-size=\"14.00\" fill=\"#000000\">gini = 0.35</text>\n",
       "<text text-anchor=\"start\" x=\"1373.3889\" y=\"-37.8\" font-family=\"Times,serif\" font-size=\"14.00\" fill=\"#000000\">samples = 602</text>\n",
       "<text text-anchor=\"start\" x=\"1360.3889\" y=\"-22.8\" font-family=\"Times,serif\" font-size=\"14.00\" fill=\"#000000\">value = [464, 138]</text>\n",
       "<text text-anchor=\"start\" x=\"1365.8889\" y=\"-7.8\" font-family=\"Times,serif\" font-size=\"14.00\" fill=\"#000000\">class = GoodBuy</text>\n",
       "</g>\n",
       "<!-- 28&#45;&gt;30 -->\n",
       "<g id=\"edge30\" class=\"edge\">\n",
       "<title>28&#45;&gt;30</title>\n",
       "<path fill=\"none\" stroke=\"#000000\" d=\"M1224.5367,-95.9298C1261.2015,-84.7086 1304.8874,-71.3385 1342.2687,-59.898\"/>\n",
       "<polygon fill=\"#000000\" stroke=\"#000000\" points=\"1343.5916,-63.1535 1352.1295,-56.8801 1341.543,-56.4599 1343.5916,-63.1535\"/>\n",
       "</g>\n",
       "</g>\n",
       "</svg>\n"
      ],
      "text/plain": [
       "<graphviz.files.Source at 0x7f4d13052630>"
      ]
     },
     "metadata": {},
     "output_type": "display_data"
    }
   ],
   "source": [
    "draw_tree(clf.estimators_[0], Xtrain[predictors],cls=['GoodBuy','BadBuy'],ratio=0.9,size=15, precision=2)"
   ]
  },
  {
   "cell_type": "markdown",
   "metadata": {},
   "source": [
    "**Evaluating performance**"
   ]
  },
  {
   "cell_type": "code",
   "execution_count": 101,
   "metadata": {},
   "outputs": [],
   "source": [
    "ypred = clf.predict(Xtest[predictors])"
   ]
  },
  {
   "cell_type": "code",
   "execution_count": 103,
   "metadata": {},
   "outputs": [
    {
     "data": {
      "text/plain": [
       "(0.44859101294744858, 0.31244064577397906)"
      ]
     },
     "execution_count": 103,
     "metadata": {},
     "output_type": "execute_result"
    }
   ],
   "source": [
    "accuracy_score(Xtest[target],ypred),f1_score(Xtest[target],ypred)"
   ]
  },
  {
   "cell_type": "code",
   "execution_count": 104,
   "metadata": {},
   "outputs": [
    {
     "data": {
      "image/png": "[encoded data removed]",
      "text/plain": [
       "<matplotlib.figure.Figure at 0x7f4d120a4cf8>"
      ]
     },
     "metadata": {},
     "output_type": "display_data"
    }
   ],
   "source": [
    "cnf_matrix = confusion_matrix(Xtest[target],ypred,labels=[0,1])\n",
    "plt.figure()\n",
    "plot_confusion_matrix(cnf_matrix\n",
    "                      , classes=['GoodBuy','BadBuy']\n",
    "                      , title='Confusion matrix')\n",
    "plt.show()"
   ]
  }
 ],
 "metadata": {
  "kernelspec": {
   "display_name": "Python 3",
   "language": "python",
   "name": "python3"
  },
  "language_info": {
   "codemirror_mode": {
    "name": "ipython",
    "version": 3
   },
   "file_extension": ".py",
   "mimetype": "text/x-python",
   "name": "python",
   "nbconvert_exporter": "python",
   "pygments_lexer": "ipython3",
   "version": "3.6.5"
  },
  "varInspector": {
   "cols": {
    "lenName": 16,
    "lenType": 16,
    "lenVar": 40
   },
   "kernels_config": {
    "python": {
     "delete_cmd_postfix": "",
     "delete_cmd_prefix": "del ",
     "library": "var_list.py",
     "varRefreshCmd": "print(var_dic_list())"
    },
    "r": {
     "delete_cmd_postfix": ") ",
     "delete_cmd_prefix": "rm(",
     "library": "var_list.r",
     "varRefreshCmd": "cat(var_dic_list()) "
    }
   },
   "types_to_exclude": [
    "module",
    "function",
    "builtin_function_or_method",
    "instance",
    "_Feature"
   ],
   "window_display": false
  }
 },
 "nbformat": 4,
 "nbformat_minor": 1
}
